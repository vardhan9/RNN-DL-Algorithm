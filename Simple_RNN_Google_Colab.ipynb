{
  "nbformat": 4,
  "nbformat_minor": 0,
  "metadata": {
    "colab": {
      "provenance": [],
      "gpuType": "V28"
    },
    "kernelspec": {
      "name": "python3",
      "display_name": "Python 3"
    },
    "language_info": {
      "name": "python"
    },
    "accelerator": "TPU"
  },
  "cells": [
    {
      "cell_type": "code",
      "execution_count": 2,
      "metadata": {
        "id": "vNp8Tj-TSjgk"
      },
      "outputs": [],
      "source": [
        "import numpy as np\n",
        "import tensorflow as tf\n",
        "from tensorflow.keras.datasets import imdb\n",
        "from tensorflow.keras.preprocessing import sequence\n",
        "from tensorflow.keras.models import Sequential\n",
        "from tensorflow.keras.layers import Embedding, SimpleRNN,Dense"
      ]
    },
    {
      "cell_type": "code",
      "source": [
        "max_features = 10000 #vocbulary size\n",
        "(X_train,y_train),(X_test,y_test) = imdb.load_data(num_words=max_features)\n",
        "\n",
        "#print the shape of the data\n",
        "\n",
        "print('Training data', X_train.shape, y_train.shape)\n",
        "print('Test data', X_test.shape, y_test.shape)"
      ],
      "metadata": {
        "colab": {
          "base_uri": "https://localhost:8080/"
        },
        "id": "ZAka5293Sp8k",
        "outputId": "925dd490-5c30-4c2a-95a2-95d89c1ed7dd"
      },
      "execution_count": 3,
      "outputs": [
        {
          "output_type": "stream",
          "name": "stdout",
          "text": [
            "Downloading data from https://storage.googleapis.com/tensorflow/tf-keras-datasets/imdb.npz\n",
            "17464789/17464789 [==============================] - 0s 0us/step\n",
            "Training data (25000,) (25000,)\n",
            "Test data (25000,) (25000,)\n"
          ]
        }
      ]
    },
    {
      "cell_type": "code",
      "source": [
        "## Inspect a sample review\n",
        "\n",
        "sample_review=X_train[0] # we get one hot representation of words\n",
        "sample_label=y_train[0] #positive or negative\n",
        "\n",
        "print('Sample review as integers:', sample_review)\n",
        "print('Sample label:', sample_label)"
      ],
      "metadata": {
        "colab": {
          "base_uri": "https://localhost:8080/"
        },
        "id": "daUJxe2NS26g",
        "outputId": "41c097cc-3be4-4fc5-b25d-28842ddd7e6f"
      },
      "execution_count": 4,
      "outputs": [
        {
          "output_type": "stream",
          "name": "stdout",
          "text": [
            "Sample review as integers: [1, 14, 22, 16, 43, 530, 973, 1622, 1385, 65, 458, 4468, 66, 3941, 4, 173, 36, 256, 5, 25, 100, 43, 838, 112, 50, 670, 2, 9, 35, 480, 284, 5, 150, 4, 172, 112, 167, 2, 336, 385, 39, 4, 172, 4536, 1111, 17, 546, 38, 13, 447, 4, 192, 50, 16, 6, 147, 2025, 19, 14, 22, 4, 1920, 4613, 469, 4, 22, 71, 87, 12, 16, 43, 530, 38, 76, 15, 13, 1247, 4, 22, 17, 515, 17, 12, 16, 626, 18, 2, 5, 62, 386, 12, 8, 316, 8, 106, 5, 4, 2223, 5244, 16, 480, 66, 3785, 33, 4, 130, 12, 16, 38, 619, 5, 25, 124, 51, 36, 135, 48, 25, 1415, 33, 6, 22, 12, 215, 28, 77, 52, 5, 14, 407, 16, 82, 2, 8, 4, 107, 117, 5952, 15, 256, 4, 2, 7, 3766, 5, 723, 36, 71, 43, 530, 476, 26, 400, 317, 46, 7, 4, 2, 1029, 13, 104, 88, 4, 381, 15, 297, 98, 32, 2071, 56, 26, 141, 6, 194, 7486, 18, 4, 226, 22, 21, 134, 476, 26, 480, 5, 144, 30, 5535, 18, 51, 36, 28, 224, 92, 25, 104, 4, 226, 65, 16, 38, 1334, 88, 12, 16, 283, 5, 16, 4472, 113, 103, 32, 15, 16, 5345, 19, 178, 32]\n",
            "Sample label: 1\n"
          ]
        }
      ]
    },
    {
      "cell_type": "code",
      "source": [
        "### Mapping of words index to words for understanding\n",
        "word_index=imdb.get_word_index()\n",
        "#word_index #dictornary"
      ],
      "metadata": {
        "colab": {
          "base_uri": "https://localhost:8080/"
        },
        "id": "_KY-wiaXS6ux",
        "outputId": "b6185d13-3ca5-4ca9-8f38-1433bcda1068"
      },
      "execution_count": 5,
      "outputs": [
        {
          "output_type": "stream",
          "name": "stdout",
          "text": [
            "Downloading data from https://storage.googleapis.com/tensorflow/tf-keras-datasets/imdb_word_index.json\n",
            "1641221/1641221 [==============================] - 0s 0us/step\n"
          ]
        }
      ]
    },
    {
      "cell_type": "code",
      "source": [
        "reverse_word_index= {value: key for key, value in word_index.items()}"
      ],
      "metadata": {
        "id": "7Xac0TDhS9FH"
      },
      "execution_count": 6,
      "outputs": []
    },
    {
      "cell_type": "code",
      "source": [
        "decoded_review = ' '.join([reverse_word_index.get(i - 3, '?') for i in sample_review])\n",
        "decoded_review"
      ],
      "metadata": {
        "colab": {
          "base_uri": "https://localhost:8080/",
          "height": 122
        },
        "id": "5maTpgIGS_y_",
        "outputId": "7f0f242f-dbbe-457b-fef8-8a33a91df111"
      },
      "execution_count": 7,
      "outputs": [
        {
          "output_type": "execute_result",
          "data": {
            "text/plain": [
              "\"? this film was just brilliant casting location scenery story direction everyone's really suited the part they played and you could just imagine being there robert ? is an amazing actor and now the same being director ? father came from the same scottish island as myself so i loved the fact there was a real connection with this film the witty remarks throughout the film were great it was just brilliant so much that i bought the film as soon as it was released for ? and would recommend it to everyone to watch and the fly fishing was amazing really cried at the end it was so sad and you know what they say if you cry at a film it must have been good and this definitely was also ? to the two little boy's that played the ? of norman and paul they were just brilliant children are often left out of the ? list i think because the stars that play them all grown up are such a big profile for the whole film but these children are amazing and should be praised for what they have done don't you think the whole story was so lovely because it was true and was someone's life after all that was shared with us all\""
            ],
            "application/vnd.google.colaboratory.intrinsic+json": {
              "type": "string"
            }
          },
          "metadata": {},
          "execution_count": 7
        }
      ]
    },
    {
      "cell_type": "code",
      "source": [
        "from tensorflow.keras.preprocessing import sequence\n",
        "\n",
        "max_len = 500\n",
        "\n",
        "X_train = sequence.pad_sequences(X_train, maxlen=max_len)\n",
        "X_test = sequence.pad_sequences(X_test, maxlen=max_len)\n",
        "X_train"
      ],
      "metadata": {
        "colab": {
          "base_uri": "https://localhost:8080/"
        },
        "id": "shxvHHZwTBUP",
        "outputId": "8dc3268d-a490-4751-c445-3d17418b9ed4"
      },
      "execution_count": 8,
      "outputs": [
        {
          "output_type": "execute_result",
          "data": {
            "text/plain": [
              "array([[   0,    0,    0, ...,   19,  178,   32],\n",
              "       [   0,    0,    0, ...,   16,  145,   95],\n",
              "       [   0,    0,    0, ...,    7,  129,  113],\n",
              "       ...,\n",
              "       [   0,    0,    0, ...,    4, 3586,    2],\n",
              "       [   0,    0,    0, ...,   12,    9,   23],\n",
              "       [   0,    0,    0, ...,  204,  131,    9]], dtype=int32)"
            ]
          },
          "metadata": {},
          "execution_count": 8
        }
      ]
    },
    {
      "cell_type": "code",
      "source": [
        "## Train Simple RNN\n",
        "#dim = 10 previously , as it is big dataset lets put 128\n",
        "dim = 128\n",
        "model=Sequential()\n",
        "model.add(Embedding(max_features, dim, input_length=max_len))\n",
        "model.add(SimpleRNN(128,activation='relu'))\n",
        "model.add(Dense(1, activation='sigmoid'))"
      ],
      "metadata": {
        "colab": {
          "base_uri": "https://localhost:8080/"
        },
        "id": "v3ksNEjWTKOw",
        "outputId": "e04541f1-6f79-4cee-b4e7-3cb8db9dbf02"
      },
      "execution_count": 10,
      "outputs": [
        {
          "output_type": "stream",
          "name": "stderr",
          "text": [
            "/usr/local/lib/python3.10/dist-packages/keras/src/layers/core/embedding.py:90: UserWarning: Argument `input_length` is deprecated. Just remove it.\n",
            "  warnings.warn(\n"
          ]
        }
      ]
    },
    {
      "cell_type": "code",
      "source": [
        "model.summary()"
      ],
      "metadata": {
        "colab": {
          "base_uri": "https://localhost:8080/",
          "height": 238
        },
        "id": "l2c33h99TMyq",
        "outputId": "bcf94a3d-5549-415a-e157-e377f12e322e"
      },
      "execution_count": 11,
      "outputs": [
        {
          "output_type": "display_data",
          "data": {
            "text/plain": [
              "\u001b[1mModel: \"sequential\"\u001b[0m\n"
            ],
            "text/html": [
              "<pre style=\"white-space:pre;overflow-x:auto;line-height:normal;font-family:Menlo,'DejaVu Sans Mono',consolas,'Courier New',monospace\"><span style=\"font-weight: bold\">Model: \"sequential\"</span>\n",
              "</pre>\n"
            ]
          },
          "metadata": {}
        },
        {
          "output_type": "display_data",
          "data": {
            "text/plain": [
              "┏━━━━━━━━━━━━━━━━━━━━━━━━━━━━━━━━━━━━━━┳━━━━━━━━━━━━━━━━━━━━━━━━━━━━━┳━━━━━━━━━━━━━━━━━┓\n",
              "┃\u001b[1m \u001b[0m\u001b[1mLayer (type)                        \u001b[0m\u001b[1m \u001b[0m┃\u001b[1m \u001b[0m\u001b[1mOutput Shape               \u001b[0m\u001b[1m \u001b[0m┃\u001b[1m \u001b[0m\u001b[1m        Param #\u001b[0m\u001b[1m \u001b[0m┃\n",
              "┡━━━━━━━━━━━━━━━━━━━━━━━━━━━━━━━━━━━━━━╇━━━━━━━━━━━━━━━━━━━━━━━━━━━━━╇━━━━━━━━━━━━━━━━━┩\n",
              "│ embedding (\u001b[38;5;33mEmbedding\u001b[0m)                │ ?                           │     \u001b[38;5;34m0\u001b[0m (unbuilt) │\n",
              "├──────────────────────────────────────┼─────────────────────────────┼─────────────────┤\n",
              "│ simple_rnn (\u001b[38;5;33mSimpleRNN\u001b[0m)               │ ?                           │     \u001b[38;5;34m0\u001b[0m (unbuilt) │\n",
              "├──────────────────────────────────────┼─────────────────────────────┼─────────────────┤\n",
              "│ dense (\u001b[38;5;33mDense\u001b[0m)                        │ ?                           │     \u001b[38;5;34m0\u001b[0m (unbuilt) │\n",
              "└──────────────────────────────────────┴─────────────────────────────┴─────────────────┘\n"
            ],
            "text/html": [
              "<pre style=\"white-space:pre;overflow-x:auto;line-height:normal;font-family:Menlo,'DejaVu Sans Mono',consolas,'Courier New',monospace\">┏━━━━━━━━━━━━━━━━━━━━━━━━━━━━━━━━━━━━━━┳━━━━━━━━━━━━━━━━━━━━━━━━━━━━━┳━━━━━━━━━━━━━━━━━┓\n",
              "┃<span style=\"font-weight: bold\"> Layer (type)                         </span>┃<span style=\"font-weight: bold\"> Output Shape                </span>┃<span style=\"font-weight: bold\">         Param # </span>┃\n",
              "┡━━━━━━━━━━━━━━━━━━━━━━━━━━━━━━━━━━━━━━╇━━━━━━━━━━━━━━━━━━━━━━━━━━━━━╇━━━━━━━━━━━━━━━━━┩\n",
              "│ embedding (<span style=\"color: #0087ff; text-decoration-color: #0087ff\">Embedding</span>)                │ ?                           │     <span style=\"color: #00af00; text-decoration-color: #00af00\">0</span> (unbuilt) │\n",
              "├──────────────────────────────────────┼─────────────────────────────┼─────────────────┤\n",
              "│ simple_rnn (<span style=\"color: #0087ff; text-decoration-color: #0087ff\">SimpleRNN</span>)               │ ?                           │     <span style=\"color: #00af00; text-decoration-color: #00af00\">0</span> (unbuilt) │\n",
              "├──────────────────────────────────────┼─────────────────────────────┼─────────────────┤\n",
              "│ dense (<span style=\"color: #0087ff; text-decoration-color: #0087ff\">Dense</span>)                        │ ?                           │     <span style=\"color: #00af00; text-decoration-color: #00af00\">0</span> (unbuilt) │\n",
              "└──────────────────────────────────────┴─────────────────────────────┴─────────────────┘\n",
              "</pre>\n"
            ]
          },
          "metadata": {}
        },
        {
          "output_type": "display_data",
          "data": {
            "text/plain": [
              "\u001b[1m Total params: \u001b[0m\u001b[38;5;34m0\u001b[0m (0.00 B)\n"
            ],
            "text/html": [
              "<pre style=\"white-space:pre;overflow-x:auto;line-height:normal;font-family:Menlo,'DejaVu Sans Mono',consolas,'Courier New',monospace\"><span style=\"font-weight: bold\"> Total params: </span><span style=\"color: #00af00; text-decoration-color: #00af00\">0</span> (0.00 B)\n",
              "</pre>\n"
            ]
          },
          "metadata": {}
        },
        {
          "output_type": "display_data",
          "data": {
            "text/plain": [
              "\u001b[1m Trainable params: \u001b[0m\u001b[38;5;34m0\u001b[0m (0.00 B)\n"
            ],
            "text/html": [
              "<pre style=\"white-space:pre;overflow-x:auto;line-height:normal;font-family:Menlo,'DejaVu Sans Mono',consolas,'Courier New',monospace\"><span style=\"font-weight: bold\"> Trainable params: </span><span style=\"color: #00af00; text-decoration-color: #00af00\">0</span> (0.00 B)\n",
              "</pre>\n"
            ]
          },
          "metadata": {}
        },
        {
          "output_type": "display_data",
          "data": {
            "text/plain": [
              "\u001b[1m Non-trainable params: \u001b[0m\u001b[38;5;34m0\u001b[0m (0.00 B)\n"
            ],
            "text/html": [
              "<pre style=\"white-space:pre;overflow-x:auto;line-height:normal;font-family:Menlo,'DejaVu Sans Mono',consolas,'Courier New',monospace\"><span style=\"font-weight: bold\"> Non-trainable params: </span><span style=\"color: #00af00; text-decoration-color: #00af00\">0</span> (0.00 B)\n",
              "</pre>\n"
            ]
          },
          "metadata": {}
        }
      ]
    },
    {
      "cell_type": "code",
      "source": [
        "model.compile(optimizer='adam', loss=tf.keras.losses.BinaryCrossentropy(), metrics=['accuracy'])"
      ],
      "metadata": {
        "id": "Xfy7ZeYiTQKp"
      },
      "execution_count": 12,
      "outputs": []
    },
    {
      "cell_type": "code",
      "source": [
        "## Create an instance of EarlyStopping Callback\n",
        "from tensorflow.keras.callbacks import EarlyStopping\n",
        "earlystopping=EarlyStopping(monitor='val_loss', patience=5, restore_best_weights = True)"
      ],
      "metadata": {
        "id": "iqujGkmfUiSE"
      },
      "execution_count": 13,
      "outputs": []
    },
    {
      "cell_type": "code",
      "source": [
        "model.summary()"
      ],
      "metadata": {
        "colab": {
          "base_uri": "https://localhost:8080/",
          "height": 238
        },
        "id": "IdeTstbNUlRi",
        "outputId": "a68e73cd-6611-493b-a836-fdbb759961ff"
      },
      "execution_count": 14,
      "outputs": [
        {
          "output_type": "display_data",
          "data": {
            "text/plain": [
              "\u001b[1mModel: \"sequential\"\u001b[0m\n"
            ],
            "text/html": [
              "<pre style=\"white-space:pre;overflow-x:auto;line-height:normal;font-family:Menlo,'DejaVu Sans Mono',consolas,'Courier New',monospace\"><span style=\"font-weight: bold\">Model: \"sequential\"</span>\n",
              "</pre>\n"
            ]
          },
          "metadata": {}
        },
        {
          "output_type": "display_data",
          "data": {
            "text/plain": [
              "┏━━━━━━━━━━━━━━━━━━━━━━━━━━━━━━━━━━━━━━┳━━━━━━━━━━━━━━━━━━━━━━━━━━━━━┳━━━━━━━━━━━━━━━━━┓\n",
              "┃\u001b[1m \u001b[0m\u001b[1mLayer (type)                        \u001b[0m\u001b[1m \u001b[0m┃\u001b[1m \u001b[0m\u001b[1mOutput Shape               \u001b[0m\u001b[1m \u001b[0m┃\u001b[1m \u001b[0m\u001b[1m        Param #\u001b[0m\u001b[1m \u001b[0m┃\n",
              "┡━━━━━━━━━━━━━━━━━━━━━━━━━━━━━━━━━━━━━━╇━━━━━━━━━━━━━━━━━━━━━━━━━━━━━╇━━━━━━━━━━━━━━━━━┩\n",
              "│ embedding (\u001b[38;5;33mEmbedding\u001b[0m)                │ ?                           │     \u001b[38;5;34m0\u001b[0m (unbuilt) │\n",
              "├──────────────────────────────────────┼─────────────────────────────┼─────────────────┤\n",
              "│ simple_rnn (\u001b[38;5;33mSimpleRNN\u001b[0m)               │ ?                           │     \u001b[38;5;34m0\u001b[0m (unbuilt) │\n",
              "├──────────────────────────────────────┼─────────────────────────────┼─────────────────┤\n",
              "│ dense (\u001b[38;5;33mDense\u001b[0m)                        │ ?                           │     \u001b[38;5;34m0\u001b[0m (unbuilt) │\n",
              "└──────────────────────────────────────┴─────────────────────────────┴─────────────────┘\n"
            ],
            "text/html": [
              "<pre style=\"white-space:pre;overflow-x:auto;line-height:normal;font-family:Menlo,'DejaVu Sans Mono',consolas,'Courier New',monospace\">┏━━━━━━━━━━━━━━━━━━━━━━━━━━━━━━━━━━━━━━┳━━━━━━━━━━━━━━━━━━━━━━━━━━━━━┳━━━━━━━━━━━━━━━━━┓\n",
              "┃<span style=\"font-weight: bold\"> Layer (type)                         </span>┃<span style=\"font-weight: bold\"> Output Shape                </span>┃<span style=\"font-weight: bold\">         Param # </span>┃\n",
              "┡━━━━━━━━━━━━━━━━━━━━━━━━━━━━━━━━━━━━━━╇━━━━━━━━━━━━━━━━━━━━━━━━━━━━━╇━━━━━━━━━━━━━━━━━┩\n",
              "│ embedding (<span style=\"color: #0087ff; text-decoration-color: #0087ff\">Embedding</span>)                │ ?                           │     <span style=\"color: #00af00; text-decoration-color: #00af00\">0</span> (unbuilt) │\n",
              "├──────────────────────────────────────┼─────────────────────────────┼─────────────────┤\n",
              "│ simple_rnn (<span style=\"color: #0087ff; text-decoration-color: #0087ff\">SimpleRNN</span>)               │ ?                           │     <span style=\"color: #00af00; text-decoration-color: #00af00\">0</span> (unbuilt) │\n",
              "├──────────────────────────────────────┼─────────────────────────────┼─────────────────┤\n",
              "│ dense (<span style=\"color: #0087ff; text-decoration-color: #0087ff\">Dense</span>)                        │ ?                           │     <span style=\"color: #00af00; text-decoration-color: #00af00\">0</span> (unbuilt) │\n",
              "└──────────────────────────────────────┴─────────────────────────────┴─────────────────┘\n",
              "</pre>\n"
            ]
          },
          "metadata": {}
        },
        {
          "output_type": "display_data",
          "data": {
            "text/plain": [
              "\u001b[1m Total params: \u001b[0m\u001b[38;5;34m0\u001b[0m (0.00 B)\n"
            ],
            "text/html": [
              "<pre style=\"white-space:pre;overflow-x:auto;line-height:normal;font-family:Menlo,'DejaVu Sans Mono',consolas,'Courier New',monospace\"><span style=\"font-weight: bold\"> Total params: </span><span style=\"color: #00af00; text-decoration-color: #00af00\">0</span> (0.00 B)\n",
              "</pre>\n"
            ]
          },
          "metadata": {}
        },
        {
          "output_type": "display_data",
          "data": {
            "text/plain": [
              "\u001b[1m Trainable params: \u001b[0m\u001b[38;5;34m0\u001b[0m (0.00 B)\n"
            ],
            "text/html": [
              "<pre style=\"white-space:pre;overflow-x:auto;line-height:normal;font-family:Menlo,'DejaVu Sans Mono',consolas,'Courier New',monospace\"><span style=\"font-weight: bold\"> Trainable params: </span><span style=\"color: #00af00; text-decoration-color: #00af00\">0</span> (0.00 B)\n",
              "</pre>\n"
            ]
          },
          "metadata": {}
        },
        {
          "output_type": "display_data",
          "data": {
            "text/plain": [
              "\u001b[1m Non-trainable params: \u001b[0m\u001b[38;5;34m0\u001b[0m (0.00 B)\n"
            ],
            "text/html": [
              "<pre style=\"white-space:pre;overflow-x:auto;line-height:normal;font-family:Menlo,'DejaVu Sans Mono',consolas,'Courier New',monospace\"><span style=\"font-weight: bold\"> Non-trainable params: </span><span style=\"color: #00af00; text-decoration-color: #00af00\">0</span> (0.00 B)\n",
              "</pre>\n"
            ]
          },
          "metadata": {}
        }
      ]
    },
    {
      "cell_type": "code",
      "source": [
        "# Train the model with earlystopping\n",
        "model.fit(\n",
        "    X_train,y_train,epochs=10,batch_size=32, validation_split=0.2,\n",
        "    callbacks=[earlystopping]\n",
        ")"
      ],
      "metadata": {
        "colab": {
          "base_uri": "https://localhost:8080/"
        },
        "id": "R23Q8Fv-UnvG",
        "outputId": "e0ca5968-1d70-4ca5-e62f-64cf7685767e"
      },
      "execution_count": 15,
      "outputs": [
        {
          "output_type": "stream",
          "name": "stdout",
          "text": [
            "Epoch 1/10\n",
            "\u001b[1m625/625\u001b[0m \u001b[32m━━━━━━━━━━━━━━━━━━━━\u001b[0m\u001b[37m\u001b[0m \u001b[1m39s\u001b[0m 57ms/step - accuracy: 0.6136 - loss: 0.8512 - val_accuracy: 0.5786 - val_loss: 0.6420\n",
            "Epoch 2/10\n",
            "\u001b[1m625/625\u001b[0m \u001b[32m━━━━━━━━━━━━━━━━━━━━\u001b[0m\u001b[37m\u001b[0m \u001b[1m38s\u001b[0m 55ms/step - accuracy: 0.7135 - loss: 0.6533 - val_accuracy: 0.7098 - val_loss: 0.5546\n",
            "Epoch 3/10\n",
            "\u001b[1m625/625\u001b[0m \u001b[32m━━━━━━━━━━━━━━━━━━━━\u001b[0m\u001b[37m\u001b[0m \u001b[1m40s\u001b[0m 54ms/step - accuracy: 0.7667 - loss: 2642083072.0000 - val_accuracy: 0.6342 - val_loss: 0.6188\n",
            "Epoch 4/10\n",
            "\u001b[1m625/625\u001b[0m \u001b[32m━━━━━━━━━━━━━━━━━━━━\u001b[0m\u001b[37m\u001b[0m \u001b[1m41s\u001b[0m 55ms/step - accuracy: 0.7415 - loss: 0.5025 - val_accuracy: 0.7166 - val_loss: 0.5439\n",
            "Epoch 5/10\n",
            "\u001b[1m625/625\u001b[0m \u001b[32m━━━━━━━━━━━━━━━━━━━━\u001b[0m\u001b[37m\u001b[0m \u001b[1m41s\u001b[0m 55ms/step - accuracy: 0.8264 - loss: 0.3889 - val_accuracy: 0.7528 - val_loss: 0.5181\n",
            "Epoch 6/10\n",
            "\u001b[1m625/625\u001b[0m \u001b[32m━━━━━━━━━━━━━━━━━━━━\u001b[0m\u001b[37m\u001b[0m \u001b[1m34s\u001b[0m 55ms/step - accuracy: 0.8615 - loss: 0.3268 - val_accuracy: 0.7570 - val_loss: 0.5318\n",
            "Epoch 7/10\n",
            "\u001b[1m625/625\u001b[0m \u001b[32m━━━━━━━━━━━━━━━━━━━━\u001b[0m\u001b[37m\u001b[0m \u001b[1m41s\u001b[0m 55ms/step - accuracy: 0.8853 - loss: 0.2819 - val_accuracy: 0.7888 - val_loss: 0.5207\n",
            "Epoch 8/10\n",
            "\u001b[1m625/625\u001b[0m \u001b[32m━━━━━━━━━━━━━━━━━━━━\u001b[0m\u001b[37m\u001b[0m \u001b[1m41s\u001b[0m 54ms/step - accuracy: 0.8899 - loss: 0.2673 - val_accuracy: 0.7362 - val_loss: 0.5641\n",
            "Epoch 9/10\n",
            "\u001b[1m625/625\u001b[0m \u001b[32m━━━━━━━━━━━━━━━━━━━━\u001b[0m\u001b[37m\u001b[0m \u001b[1m41s\u001b[0m 55ms/step - accuracy: 0.8758 - loss: 0.2834 - val_accuracy: 0.7668 - val_loss: 0.5712\n",
            "Epoch 10/10\n",
            "\u001b[1m625/625\u001b[0m \u001b[32m━━━━━━━━━━━━━━━━━━━━\u001b[0m\u001b[37m\u001b[0m \u001b[1m34s\u001b[0m 54ms/step - accuracy: 0.9175 - loss: 0.2181 - val_accuracy: 0.7660 - val_loss: 0.5652\n"
          ]
        },
        {
          "output_type": "execute_result",
          "data": {
            "text/plain": [
              "<keras.src.callbacks.history.History at 0x7bf402149930>"
            ]
          },
          "metadata": {},
          "execution_count": 15
        }
      ]
    },
    {
      "cell_type": "code",
      "source": [
        "model.save('simple_rnn_imdb.h5')"
      ],
      "metadata": {
        "colab": {
          "base_uri": "https://localhost:8080/"
        },
        "id": "OFA2NUgcUrp1",
        "outputId": "bf4fcdaf-0b1c-411e-d8b1-47f75eebf248"
      },
      "execution_count": 16,
      "outputs": [
        {
          "output_type": "stream",
          "name": "stderr",
          "text": [
            "WARNING:absl:You are saving your model as an HDF5 file via `model.save()` or `keras.saving.save_model(model)`. This file format is considered legacy. We recommend using instead the native Keras format, e.g. `model.save('my_model.keras')` or `keras.saving.save_model(model, 'my_model.keras')`. \n"
          ]
        }
      ]
    },
    {
      "cell_type": "code",
      "source": [
        "model.summary()"
      ],
      "metadata": {
        "id": "WMrYWrMoY4Ji",
        "outputId": "89193fb9-9ace-41ca-dcbc-b53c32e17aa8",
        "colab": {
          "base_uri": "https://localhost:8080/",
          "height": 255
        }
      },
      "execution_count": 17,
      "outputs": [
        {
          "output_type": "display_data",
          "data": {
            "text/plain": [
              "\u001b[1mModel: \"sequential\"\u001b[0m\n"
            ],
            "text/html": [
              "<pre style=\"white-space:pre;overflow-x:auto;line-height:normal;font-family:Menlo,'DejaVu Sans Mono',consolas,'Courier New',monospace\"><span style=\"font-weight: bold\">Model: \"sequential\"</span>\n",
              "</pre>\n"
            ]
          },
          "metadata": {}
        },
        {
          "output_type": "display_data",
          "data": {
            "text/plain": [
              "┏━━━━━━━━━━━━━━━━━━━━━━━━━━━━━━━━━━━━━━┳━━━━━━━━━━━━━━━━━━━━━━━━━━━━━┳━━━━━━━━━━━━━━━━━┓\n",
              "┃\u001b[1m \u001b[0m\u001b[1mLayer (type)                        \u001b[0m\u001b[1m \u001b[0m┃\u001b[1m \u001b[0m\u001b[1mOutput Shape               \u001b[0m\u001b[1m \u001b[0m┃\u001b[1m \u001b[0m\u001b[1m        Param #\u001b[0m\u001b[1m \u001b[0m┃\n",
              "┡━━━━━━━━━━━━━━━━━━━━━━━━━━━━━━━━━━━━━━╇━━━━━━━━━━━━━━━━━━━━━━━━━━━━━╇━━━━━━━━━━━━━━━━━┩\n",
              "│ embedding (\u001b[38;5;33mEmbedding\u001b[0m)                │ (\u001b[38;5;34m32\u001b[0m, \u001b[38;5;34m500\u001b[0m, \u001b[38;5;34m128\u001b[0m)              │       \u001b[38;5;34m1,280,000\u001b[0m │\n",
              "├──────────────────────────────────────┼─────────────────────────────┼─────────────────┤\n",
              "│ simple_rnn (\u001b[38;5;33mSimpleRNN\u001b[0m)               │ (\u001b[38;5;34m32\u001b[0m, \u001b[38;5;34m128\u001b[0m)                   │          \u001b[38;5;34m32,896\u001b[0m │\n",
              "├──────────────────────────────────────┼─────────────────────────────┼─────────────────┤\n",
              "│ dense (\u001b[38;5;33mDense\u001b[0m)                        │ (\u001b[38;5;34m32\u001b[0m, \u001b[38;5;34m1\u001b[0m)                     │             \u001b[38;5;34m129\u001b[0m │\n",
              "└──────────────────────────────────────┴─────────────────────────────┴─────────────────┘\n"
            ],
            "text/html": [
              "<pre style=\"white-space:pre;overflow-x:auto;line-height:normal;font-family:Menlo,'DejaVu Sans Mono',consolas,'Courier New',monospace\">┏━━━━━━━━━━━━━━━━━━━━━━━━━━━━━━━━━━━━━━┳━━━━━━━━━━━━━━━━━━━━━━━━━━━━━┳━━━━━━━━━━━━━━━━━┓\n",
              "┃<span style=\"font-weight: bold\"> Layer (type)                         </span>┃<span style=\"font-weight: bold\"> Output Shape                </span>┃<span style=\"font-weight: bold\">         Param # </span>┃\n",
              "┡━━━━━━━━━━━━━━━━━━━━━━━━━━━━━━━━━━━━━━╇━━━━━━━━━━━━━━━━━━━━━━━━━━━━━╇━━━━━━━━━━━━━━━━━┩\n",
              "│ embedding (<span style=\"color: #0087ff; text-decoration-color: #0087ff\">Embedding</span>)                │ (<span style=\"color: #00af00; text-decoration-color: #00af00\">32</span>, <span style=\"color: #00af00; text-decoration-color: #00af00\">500</span>, <span style=\"color: #00af00; text-decoration-color: #00af00\">128</span>)              │       <span style=\"color: #00af00; text-decoration-color: #00af00\">1,280,000</span> │\n",
              "├──────────────────────────────────────┼─────────────────────────────┼─────────────────┤\n",
              "│ simple_rnn (<span style=\"color: #0087ff; text-decoration-color: #0087ff\">SimpleRNN</span>)               │ (<span style=\"color: #00af00; text-decoration-color: #00af00\">32</span>, <span style=\"color: #00af00; text-decoration-color: #00af00\">128</span>)                   │          <span style=\"color: #00af00; text-decoration-color: #00af00\">32,896</span> │\n",
              "├──────────────────────────────────────┼─────────────────────────────┼─────────────────┤\n",
              "│ dense (<span style=\"color: #0087ff; text-decoration-color: #0087ff\">Dense</span>)                        │ (<span style=\"color: #00af00; text-decoration-color: #00af00\">32</span>, <span style=\"color: #00af00; text-decoration-color: #00af00\">1</span>)                     │             <span style=\"color: #00af00; text-decoration-color: #00af00\">129</span> │\n",
              "└──────────────────────────────────────┴─────────────────────────────┴─────────────────┘\n",
              "</pre>\n"
            ]
          },
          "metadata": {}
        },
        {
          "output_type": "display_data",
          "data": {
            "text/plain": [
              "\u001b[1m Total params: \u001b[0m\u001b[38;5;34m3,939,077\u001b[0m (15.03 MB)\n"
            ],
            "text/html": [
              "<pre style=\"white-space:pre;overflow-x:auto;line-height:normal;font-family:Menlo,'DejaVu Sans Mono',consolas,'Courier New',monospace\"><span style=\"font-weight: bold\"> Total params: </span><span style=\"color: #00af00; text-decoration-color: #00af00\">3,939,077</span> (15.03 MB)\n",
              "</pre>\n"
            ]
          },
          "metadata": {}
        },
        {
          "output_type": "display_data",
          "data": {
            "text/plain": [
              "\u001b[1m Trainable params: \u001b[0m\u001b[38;5;34m1,313,025\u001b[0m (5.01 MB)\n"
            ],
            "text/html": [
              "<pre style=\"white-space:pre;overflow-x:auto;line-height:normal;font-family:Menlo,'DejaVu Sans Mono',consolas,'Courier New',monospace\"><span style=\"font-weight: bold\"> Trainable params: </span><span style=\"color: #00af00; text-decoration-color: #00af00\">1,313,025</span> (5.01 MB)\n",
              "</pre>\n"
            ]
          },
          "metadata": {}
        },
        {
          "output_type": "display_data",
          "data": {
            "text/plain": [
              "\u001b[1m Non-trainable params: \u001b[0m\u001b[38;5;34m0\u001b[0m (0.00 B)\n"
            ],
            "text/html": [
              "<pre style=\"white-space:pre;overflow-x:auto;line-height:normal;font-family:Menlo,'DejaVu Sans Mono',consolas,'Courier New',monospace\"><span style=\"font-weight: bold\"> Non-trainable params: </span><span style=\"color: #00af00; text-decoration-color: #00af00\">0</span> (0.00 B)\n",
              "</pre>\n"
            ]
          },
          "metadata": {}
        },
        {
          "output_type": "display_data",
          "data": {
            "text/plain": [
              "\u001b[1m Optimizer params: \u001b[0m\u001b[38;5;34m2,626,052\u001b[0m (10.02 MB)\n"
            ],
            "text/html": [
              "<pre style=\"white-space:pre;overflow-x:auto;line-height:normal;font-family:Menlo,'DejaVu Sans Mono',consolas,'Courier New',monospace\"><span style=\"font-weight: bold\"> Optimizer params: </span><span style=\"color: #00af00; text-decoration-color: #00af00\">2,626,052</span> (10.02 MB)\n",
              "</pre>\n"
            ]
          },
          "metadata": {}
        }
      ]
    },
    {
      "cell_type": "code",
      "source": [
        "model.get_weights()"
      ],
      "metadata": {
        "id": "HwluSx2CZEpa",
        "outputId": "1e788cc6-7340-4895-f0d2-fe84b2ca3dc9",
        "colab": {
          "base_uri": "https://localhost:8080/"
        }
      },
      "execution_count": 19,
      "outputs": [
        {
          "output_type": "execute_result",
          "data": {
            "text/plain": [
              "[array([[ 0.303582  , -0.05025218,  0.04663373, ..., -0.08286288,\n",
              "         -0.2956273 ,  0.00372062],\n",
              "        [-0.01408651, -0.02047963,  0.0667265 , ...,  0.03920185,\n",
              "         -0.04481776,  0.018064  ],\n",
              "        [-0.00566717,  0.09010366,  0.13804859, ..., -0.07665639,\n",
              "         -0.09472236, -0.09275725],\n",
              "        ...,\n",
              "        [ 0.01105624,  0.09257907,  0.02660605, ...,  0.02705771,\n",
              "         -0.04121911, -0.0567257 ],\n",
              "        [ 0.051004  ,  0.00394419,  0.06931485, ..., -0.00765905,\n",
              "         -0.04823989,  0.00572048],\n",
              "        [ 0.04768732, -0.05904706,  0.09086073, ...,  0.02673497,\n",
              "         -0.04744519,  0.07095532]], dtype=float32),\n",
              " array([[ 0.10525948, -0.09288356,  0.03406724, ..., -0.18896659,\n",
              "          0.10021158, -0.10961915],\n",
              "        [ 0.0500736 ,  0.0408796 , -0.1960221 , ..., -0.03969699,\n",
              "         -0.16432096,  0.03212856],\n",
              "        [-0.11843143, -0.01471975, -0.00930662, ..., -0.08181067,\n",
              "         -0.00046799,  0.0947779 ],\n",
              "        ...,\n",
              "        [ 0.18953615,  0.11383326,  0.0351833 , ..., -0.08215883,\n",
              "         -0.0156363 , -0.10106268],\n",
              "        [ 0.15712623,  0.08132294, -0.01296104, ..., -0.00700181,\n",
              "         -0.11950327,  0.15045364],\n",
              "        [ 0.1167217 ,  0.0023995 ,  0.01016776, ...,  0.09405571,\n",
              "          0.17243543,  0.07710675]], dtype=float32),\n",
              " array([[ 0.07336903,  0.15185513, -0.10852326, ...,  0.01129424,\n",
              "          0.0562741 , -0.07571138],\n",
              "        [-0.14783306,  0.0908559 ,  0.11186408, ..., -0.13028787,\n",
              "          0.11806735,  0.01375953],\n",
              "        [ 0.09359093,  0.07005762, -0.05819906, ..., -0.02357086,\n",
              "          0.01796549,  0.02579891],\n",
              "        ...,\n",
              "        [-0.03546135, -0.03966999, -0.03308327, ..., -0.21456933,\n",
              "          0.03984368,  0.12052188],\n",
              "        [-0.00700322, -0.11083639,  0.1664976 , ..., -0.17345735,\n",
              "          0.05525271, -0.05426649],\n",
              "        [-0.02371352,  0.10008164,  0.02496636, ..., -0.03958783,\n",
              "          0.12386397, -0.05033632]], dtype=float32),\n",
              " array([-4.91086915e-02, -3.05837262e-02,  7.69592822e-03, -6.49413690e-02,\n",
              "        -2.93478500e-02, -2.66767852e-02, -8.37014914e-02,  5.65062910e-02,\n",
              "        -4.53097634e-02, -5.20616211e-02, -4.51516472e-02, -6.15115650e-02,\n",
              "        -8.37726370e-02, -5.20777479e-02, -1.11317849e-02, -2.35725213e-02,\n",
              "        -1.38380723e-02, -1.12434820e-04,  2.67543569e-02,  4.03389074e-02,\n",
              "        -7.24111572e-02, -5.29526696e-02,  1.71861495e-03, -6.71639144e-02,\n",
              "        -1.88935839e-03, -4.15709764e-02, -5.92198521e-02,  3.12601179e-02,\n",
              "        -4.67788689e-02, -6.14861818e-03, -2.15479061e-02,  5.15326951e-03,\n",
              "        -4.07768367e-03, -3.11373137e-02, -3.31289731e-02,  3.51337045e-02,\n",
              "        -4.89953347e-02, -2.58863606e-02,  1.96945220e-02, -9.62146616e-04,\n",
              "        -3.49294301e-03, -2.03690976e-02, -3.03058606e-02, -2.45759431e-02,\n",
              "        -7.37250131e-03, -7.11279921e-03,  4.00245599e-02,  7.97941757e-04,\n",
              "         2.44821403e-02, -2.62003932e-02, -3.06621864e-02,  1.06746214e-03,\n",
              "        -2.25497270e-03,  1.10302456e-02, -2.58733630e-02,  2.07931064e-02,\n",
              "        -7.19207153e-02,  5.23389839e-02,  4.97233421e-02, -7.38368649e-03,\n",
              "        -4.45227660e-02, -4.18634899e-02,  3.34769897e-02, -4.95023839e-02,\n",
              "         2.68461969e-04, -1.06823575e-02, -2.30187827e-04,  4.88269106e-02,\n",
              "         1.90771241e-02, -6.72644377e-02, -7.84004256e-02, -3.87442745e-02,\n",
              "        -7.29917437e-02, -4.98684198e-02, -1.62081029e-02,  4.91604349e-03,\n",
              "        -6.03948794e-02,  5.81871900e-05,  3.98986861e-02, -8.41453671e-02,\n",
              "        -1.07433731e-02, -2.17477512e-03, -2.13519931e-02, -1.32224159e-02,\n",
              "        -5.89412302e-02, -6.98158070e-02, -4.10949439e-02, -3.95570882e-03,\n",
              "        -3.40203685e-03,  5.37434593e-02, -2.28273775e-02, -2.26846058e-02,\n",
              "        -6.60167560e-02, -4.92004585e-03,  1.77867692e-02,  4.20104004e-02,\n",
              "        -2.85972115e-02, -7.63458163e-02,  1.49518028e-02,  1.58813484e-02,\n",
              "        -6.07490316e-02,  7.39312032e-03, -4.95585939e-03,  8.71717744e-03,\n",
              "        -2.06917468e-02,  1.05671277e-02, -6.24761619e-02, -1.30680548e-02,\n",
              "        -2.36490462e-02, -3.96038219e-02, -3.82027067e-02, -5.62235191e-02,\n",
              "         2.59463745e-03, -5.02973199e-02, -5.02003618e-02, -7.47884065e-02,\n",
              "        -2.80938856e-02, -6.80176914e-02, -5.90779912e-03, -2.19883397e-02,\n",
              "        -7.08772196e-03, -8.17291588e-02, -3.42629105e-02, -6.10844046e-02,\n",
              "        -5.15355263e-03, -1.23612657e-02,  2.13853959e-02, -4.74446230e-02],\n",
              "       dtype=float32),\n",
              " array([[-5.67011237e-02],\n",
              "        [ 1.36155874e-01],\n",
              "        [ 1.31221995e-01],\n",
              "        [-1.76047102e-01],\n",
              "        [ 2.55824059e-01],\n",
              "        [-4.89500105e-01],\n",
              "        [-7.45375780e-03],\n",
              "        [ 7.23293647e-02],\n",
              "        [-1.09493643e-01],\n",
              "        [-7.13299960e-02],\n",
              "        [ 2.04421639e-01],\n",
              "        [ 9.65786949e-02],\n",
              "        [-4.36112843e-02],\n",
              "        [-1.43930361e-01],\n",
              "        [ 2.36472115e-01],\n",
              "        [-2.60055631e-01],\n",
              "        [-1.31632656e-01],\n",
              "        [ 1.73298895e-01],\n",
              "        [-9.18669477e-02],\n",
              "        [-3.22739482e-02],\n",
              "        [-1.03863023e-01],\n",
              "        [ 9.37979072e-02],\n",
              "        [ 4.51319702e-02],\n",
              "        [-1.72643401e-02],\n",
              "        [-1.35935560e-01],\n",
              "        [ 3.25506389e-01],\n",
              "        [ 1.65911257e-01],\n",
              "        [ 1.47447571e-01],\n",
              "        [ 3.50099266e-01],\n",
              "        [ 2.21903026e-01],\n",
              "        [ 4.21017557e-02],\n",
              "        [ 8.91604722e-02],\n",
              "        [-2.30505794e-01],\n",
              "        [ 4.08299476e-01],\n",
              "        [-1.58434123e-01],\n",
              "        [ 1.26118928e-01],\n",
              "        [-3.17443162e-02],\n",
              "        [-3.65053676e-02],\n",
              "        [ 7.54433423e-02],\n",
              "        [-1.14135340e-01],\n",
              "        [ 5.83949804e-01],\n",
              "        [-2.71360219e-01],\n",
              "        [ 1.70387834e-01],\n",
              "        [ 1.99457183e-02],\n",
              "        [ 1.76877648e-01],\n",
              "        [-1.28782168e-01],\n",
              "        [ 7.83376396e-03],\n",
              "        [ 1.86403662e-01],\n",
              "        [ 6.28070682e-02],\n",
              "        [-9.60844103e-03],\n",
              "        [-1.82595953e-01],\n",
              "        [ 1.59524679e-02],\n",
              "        [-1.48230880e-01],\n",
              "        [-3.02074760e-01],\n",
              "        [-6.29318133e-02],\n",
              "        [ 1.86361969e-01],\n",
              "        [-6.82971925e-02],\n",
              "        [-3.80100161e-01],\n",
              "        [ 1.85951471e-01],\n",
              "        [ 9.31226313e-02],\n",
              "        [ 1.73125520e-01],\n",
              "        [-3.75635885e-02],\n",
              "        [ 5.43525675e-04],\n",
              "        [-1.34036273e-01],\n",
              "        [ 2.01355636e-01],\n",
              "        [-7.20022172e-02],\n",
              "        [-1.22906446e-01],\n",
              "        [-4.59239148e-02],\n",
              "        [ 9.44944471e-02],\n",
              "        [ 7.66626969e-02],\n",
              "        [ 8.27065706e-02],\n",
              "        [ 1.13429509e-01],\n",
              "        [ 2.69557893e-01],\n",
              "        [ 1.21389180e-01],\n",
              "        [ 3.69926691e-02],\n",
              "        [-3.68957132e-01],\n",
              "        [ 1.73372895e-01],\n",
              "        [-2.07375243e-01],\n",
              "        [ 1.02522440e-01],\n",
              "        [ 1.07162051e-01],\n",
              "        [ 6.73343614e-02],\n",
              "        [ 1.78827450e-01],\n",
              "        [ 1.58032954e-01],\n",
              "        [ 4.29548584e-02],\n",
              "        [ 5.11580333e-02],\n",
              "        [ 1.41727105e-02],\n",
              "        [-2.05181152e-01],\n",
              "        [-2.52030864e-02],\n",
              "        [ 1.64237723e-01],\n",
              "        [ 2.45954409e-01],\n",
              "        [-2.18334019e-01],\n",
              "        [-7.18594566e-02],\n",
              "        [ 5.76743074e-02],\n",
              "        [-3.05623710e-01],\n",
              "        [ 8.40073749e-02],\n",
              "        [ 2.01748252e-01],\n",
              "        [-9.94332973e-03],\n",
              "        [ 3.74452263e-01],\n",
              "        [-6.61207065e-02],\n",
              "        [ 1.83905736e-01],\n",
              "        [ 1.78189084e-01],\n",
              "        [ 4.03235629e-02],\n",
              "        [ 1.62852377e-01],\n",
              "        [-1.84407890e-01],\n",
              "        [ 2.03816652e-01],\n",
              "        [ 1.68490261e-01],\n",
              "        [ 2.60760691e-02],\n",
              "        [-2.09823743e-01],\n",
              "        [-2.50560269e-02],\n",
              "        [-2.89667785e-01],\n",
              "        [ 1.75995588e-01],\n",
              "        [-3.27440858e-01],\n",
              "        [-4.14143391e-02],\n",
              "        [-1.33357838e-01],\n",
              "        [ 9.21394080e-02],\n",
              "        [ 1.22306645e-01],\n",
              "        [-1.42744601e-01],\n",
              "        [-9.75669697e-02],\n",
              "        [-3.27951908e-01],\n",
              "        [-2.06091553e-01],\n",
              "        [ 2.15592995e-01],\n",
              "        [ 5.79825453e-02],\n",
              "        [-7.96577558e-02],\n",
              "        [-7.68109500e-01],\n",
              "        [-1.27322599e-01],\n",
              "        [ 4.92112972e-02],\n",
              "        [ 2.63468057e-01],\n",
              "        [-8.71263966e-02]], dtype=float32),\n",
              " array([0.10155065], dtype=float32)]"
            ]
          },
          "metadata": {},
          "execution_count": 19
        }
      ]
    },
    {
      "cell_type": "markdown",
      "source": [
        "# Prediction"
      ],
      "metadata": {
        "id": "TOROLvqtZnJn"
      }
    },
    {
      "cell_type": "code",
      "source": [
        "# Step 2 Helper Funtcion\n",
        "# Function to decode the reviews\n",
        "\n",
        "def decoded_review(encode_review):\n",
        "  return ' '.join([reverse_word_index.get(i - 3, '?') for i in encode_review])\n",
        "\n",
        "# Function to preprocess user input\n",
        "\n",
        "def preprocess_text(text):\n",
        "  words = text.lower().split()\n",
        "  encoded_review = [word_index.get(word, 2) + 3 for word in words]\n",
        "  padded_review = sequence.pad_sequences([encoded_review], maxlen=500)\n",
        "  return padded_review"
      ],
      "metadata": {
        "id": "7TJmPc45ZLok"
      },
      "execution_count": 20,
      "outputs": []
    },
    {
      "cell_type": "code",
      "source": [
        "### Prediction function\n",
        "\n",
        "def predict_sentiment(review):\n",
        "  preprocessed_input= preprocess_text(review)\n",
        "  prediction = model.predict(preprocessed_input)\n",
        "  sentiment = 'Positive' if prediction[0][0] > 0.5 else 'Negative'\n",
        "  return sentiment, prediction[0][0]"
      ],
      "metadata": {
        "id": "RFQbxvxxaqzi"
      },
      "execution_count": 21,
      "outputs": []
    },
    {
      "cell_type": "code",
      "source": [
        "## User Input and Prediction\n",
        "# example Review for prediction\n",
        "example_review = \"This movie was boring. The acting was worst and the plot was thrilling\"\n",
        "sentiment,score=predict_sentiment(example_review)\n",
        "\n",
        "print(example_review)\n",
        "print('Sentiment:',sentiment)\n",
        "print('Prediction Score:',score)"
      ],
      "metadata": {
        "id": "61DRr_QNbZv-",
        "outputId": "b3722837-4811-443d-c8d3-7b1f57854a93",
        "colab": {
          "base_uri": "https://localhost:8080/"
        }
      },
      "execution_count": 24,
      "outputs": [
        {
          "output_type": "stream",
          "name": "stdout",
          "text": [
            "\u001b[1m1/1\u001b[0m \u001b[32m━━━━━━━━━━━━━━━━━━━━\u001b[0m\u001b[37m\u001b[0m \u001b[1m0s\u001b[0m 33ms/step\n",
            "This movie was boring. The acting was worst and the plot was thrilling\n",
            "Sentiment: Negative\n",
            "Prediction Score: 0.014334362\n"
          ]
        }
      ]
    },
    {
      "cell_type": "code",
      "source": [
        "tpu = tf.distribute.cluster_resolver.TPUClusterResolver()"
      ],
      "metadata": {
        "id": "zyyP5PNPcMzU"
      },
      "execution_count": 9,
      "outputs": []
    },
    {
      "cell_type": "code",
      "source": [
        "# instantiate a distribution strategy\n",
        "tf.tpu.experimental.initialize_tpu_system(tpu)\n",
        "tpu_strategy = tf.distribute.TPUStrategy(tpu)"
      ],
      "metadata": {
        "id": "G9B4fNiAHb1i"
      },
      "execution_count": 10,
      "outputs": []
    },
    {
      "cell_type": "code",
      "source": [
        "with tpu_strategy.scope():\n",
        "    dim = 128\n",
        "    model=Sequential()\n",
        "    model.add(Embedding(max_features, dim, input_length=max_len))\n",
        "    model.add(SimpleRNN(128,activation='relu'))\n",
        "    model.add(Dense(1, activation='sigmoid'))\n",
        "    model.compile(optimizer='adam', loss=tf.keras.losses.BinaryCrossentropy(), metrics=['accuracy'])"
      ],
      "metadata": {
        "id": "d3KxF9eNHo4l"
      },
      "execution_count": 11,
      "outputs": []
    },
    {
      "cell_type": "code",
      "source": [
        "model.fit(\n",
        "    X_train,y_train,epochs=50,batch_size=32, validation_split=0.2\n",
        ")"
      ],
      "metadata": {
        "id": "XlYsqvmTHu9u",
        "outputId": "d93138dc-120b-491e-fab6-8218137e44ef",
        "colab": {
          "base_uri": "https://localhost:8080/",
          "height": 1000
        }
      },
      "execution_count": 13,
      "outputs": [
        {
          "output_type": "stream",
          "name": "stdout",
          "text": [
            "Epoch 1/50\n",
            "625/625 [==============================] - 21s 33ms/step - loss: 0.4251 - accuracy: 0.8101 - val_loss: 0.5212 - val_accuracy: 0.7524\n",
            "Epoch 2/50\n",
            "625/625 [==============================] - 21s 33ms/step - loss: 0.3193 - accuracy: 0.8847 - val_loss: 0.4851 - val_accuracy: 0.7844\n",
            "Epoch 3/50\n",
            "625/625 [==============================] - 21s 33ms/step - loss: 0.2634 - accuracy: 0.9048 - val_loss: 0.4600 - val_accuracy: 0.8024\n",
            "Epoch 4/50\n",
            "625/625 [==============================] - 20s 33ms/step - loss: 0.2406 - accuracy: 0.9078 - val_loss: 0.5165 - val_accuracy: 0.7928\n",
            "Epoch 5/50\n",
            "625/625 [==============================] - 21s 33ms/step - loss: 0.1846 - accuracy: 0.9282 - val_loss: 0.5734 - val_accuracy: 0.7954\n",
            "Epoch 6/50\n",
            "625/625 [==============================] - 20s 33ms/step - loss: 0.2248 - accuracy: 0.9000 - val_loss: 0.6424 - val_accuracy: 0.7066\n",
            "Epoch 7/50\n",
            "625/625 [==============================] - 21s 33ms/step - loss: 0.1918 - accuracy: 0.9230 - val_loss: 0.6415 - val_accuracy: 0.7866\n",
            "Epoch 8/50\n",
            "625/625 [==============================] - 20s 33ms/step - loss: 0.1224 - accuracy: 0.9555 - val_loss: 0.7448 - val_accuracy: 0.7542\n",
            "Epoch 9/50\n",
            "625/625 [==============================] - 21s 33ms/step - loss: 0.1119 - accuracy: 0.9602 - val_loss: 0.8196 - val_accuracy: 0.7750\n",
            "Epoch 10/50\n",
            "625/625 [==============================] - 20s 33ms/step - loss: 0.0603 - accuracy: 0.9784 - val_loss: 0.9135 - val_accuracy: 0.7670\n",
            "Epoch 11/50\n",
            "625/625 [==============================] - 20s 33ms/step - loss: 0.1647 - accuracy: 0.9273 - val_loss: 0.8939 - val_accuracy: 0.6078\n",
            "Epoch 12/50\n",
            "625/625 [==============================] - 20s 33ms/step - loss: 222.5569 - accuracy: 0.7956 - val_loss: 0.7101 - val_accuracy: 0.6200\n",
            "Epoch 13/50\n",
            "625/625 [==============================] - 21s 33ms/step - loss: 0.7581 - accuracy: 0.7747 - val_loss: 0.7332 - val_accuracy: 0.6250\n",
            "Epoch 14/50\n",
            "625/625 [==============================] - 21s 33ms/step - loss: 0.4632 - accuracy: 0.7513 - val_loss: 0.6981 - val_accuracy: 0.6576\n",
            "Epoch 15/50\n",
            "625/625 [==============================] - 21s 33ms/step - loss: 0.3608 - accuracy: 0.8319 - val_loss: 0.6945 - val_accuracy: 0.6820\n",
            "Epoch 16/50\n",
            "625/625 [==============================] - 20s 33ms/step - loss: 0.2094 - accuracy: 0.9167 - val_loss: 0.6393 - val_accuracy: 0.7706\n",
            "Epoch 17/50\n",
            "625/625 [==============================] - 21s 33ms/step - loss: 0.1241 - accuracy: 0.9556 - val_loss: 0.8051 - val_accuracy: 0.7738\n",
            "Epoch 18/50\n",
            "625/625 [==============================] - 20s 33ms/step - loss: 0.0673 - accuracy: 0.9780 - val_loss: 0.7122 - val_accuracy: 0.7752\n",
            "Epoch 19/50\n",
            "625/625 [==============================] - 21s 33ms/step - loss: 0.0551 - accuracy: 0.9823 - val_loss: 0.8481 - val_accuracy: 0.7858\n",
            "Epoch 20/50\n",
            "625/625 [==============================] - 21s 33ms/step - loss: 0.0303 - accuracy: 0.9917 - val_loss: 0.8577 - val_accuracy: 0.7912\n",
            "Epoch 21/50\n",
            "625/625 [==============================] - 21s 33ms/step - loss: 0.0316 - accuracy: 0.9902 - val_loss: 0.8706 - val_accuracy: 0.7650\n",
            "Epoch 22/50\n",
            "625/625 [==============================] - 20s 33ms/step - loss: 0.0371 - accuracy: 0.9883 - val_loss: 0.9593 - val_accuracy: 0.7868\n",
            "Epoch 23/50\n",
            "625/625 [==============================] - 20s 33ms/step - loss: 0.0236 - accuracy: 0.9930 - val_loss: 0.9773 - val_accuracy: 0.7898\n",
            "Epoch 24/50\n",
            "625/625 [==============================] - 20s 33ms/step - loss: 0.0255 - accuracy: 0.9924 - val_loss: 1.0592 - val_accuracy: 0.7996\n",
            "Epoch 25/50\n",
            "625/625 [==============================] - 21s 33ms/step - loss: 0.0254 - accuracy: 0.9927 - val_loss: 1.0910 - val_accuracy: 0.7982\n",
            "Epoch 26/50\n",
            "625/625 [==============================] - 21s 33ms/step - loss: 0.0388 - accuracy: 0.9865 - val_loss: 1.0230 - val_accuracy: 0.7784\n",
            "Epoch 27/50\n",
            "625/625 [==============================] - 21s 33ms/step - loss: 0.1049 - accuracy: 0.9598 - val_loss: 1.0597 - val_accuracy: 0.6872\n",
            "Epoch 28/50\n",
            "625/625 [==============================] - 20s 33ms/step - loss: 0.0412 - accuracy: 0.9851 - val_loss: 1.0789 - val_accuracy: 0.7798\n",
            "Epoch 29/50\n",
            "625/625 [==============================] - 21s 33ms/step - loss: 0.0099 - accuracy: 0.9974 - val_loss: 1.2127 - val_accuracy: 0.7898\n",
            "Epoch 30/50\n",
            "625/625 [==============================] - 21s 33ms/step - loss: 0.0105 - accuracy: 0.9970 - val_loss: 1.1668 - val_accuracy: 0.7870\n",
            "Epoch 31/50\n",
            "625/625 [==============================] - 21s 34ms/step - loss: 3960363548672.0000 - accuracy: 0.9470 - val_loss: 0.9203 - val_accuracy: 0.6208\n",
            "Epoch 32/50\n",
            "577/625 [==========================>...] - ETA: 1s - loss: 0.4994 - accuracy: 0.7455"
          ]
        },
        {
          "output_type": "error",
          "ename": "KeyboardInterrupt",
          "evalue": "",
          "traceback": [
            "\u001b[0;31m---------------------------------------------------------------------------\u001b[0m",
            "\u001b[0;31mKeyboardInterrupt\u001b[0m                         Traceback (most recent call last)",
            "\u001b[0;32m<ipython-input-13-d4e1c141667e>\u001b[0m in \u001b[0;36m<cell line: 1>\u001b[0;34m()\u001b[0m\n\u001b[0;32m----> 1\u001b[0;31m model.fit(\n\u001b[0m\u001b[1;32m      2\u001b[0m     \u001b[0mX_train\u001b[0m\u001b[0;34m,\u001b[0m\u001b[0my_train\u001b[0m\u001b[0;34m,\u001b[0m\u001b[0mepochs\u001b[0m\u001b[0;34m=\u001b[0m\u001b[0;36m50\u001b[0m\u001b[0;34m,\u001b[0m\u001b[0mbatch_size\u001b[0m\u001b[0;34m=\u001b[0m\u001b[0;36m32\u001b[0m\u001b[0;34m,\u001b[0m \u001b[0mvalidation_split\u001b[0m\u001b[0;34m=\u001b[0m\u001b[0;36m0.2\u001b[0m\u001b[0;34m\u001b[0m\u001b[0;34m\u001b[0m\u001b[0m\n\u001b[1;32m      3\u001b[0m )\n",
            "\u001b[0;32m/usr/local/lib/python3.10/dist-packages/keras/src/utils/traceback_utils.py\u001b[0m in \u001b[0;36merror_handler\u001b[0;34m(*args, **kwargs)\u001b[0m\n\u001b[1;32m     63\u001b[0m         \u001b[0mfiltered_tb\u001b[0m \u001b[0;34m=\u001b[0m \u001b[0;32mNone\u001b[0m\u001b[0;34m\u001b[0m\u001b[0;34m\u001b[0m\u001b[0m\n\u001b[1;32m     64\u001b[0m         \u001b[0;32mtry\u001b[0m\u001b[0;34m:\u001b[0m\u001b[0;34m\u001b[0m\u001b[0;34m\u001b[0m\u001b[0m\n\u001b[0;32m---> 65\u001b[0;31m             \u001b[0;32mreturn\u001b[0m \u001b[0mfn\u001b[0m\u001b[0;34m(\u001b[0m\u001b[0;34m*\u001b[0m\u001b[0margs\u001b[0m\u001b[0;34m,\u001b[0m \u001b[0;34m**\u001b[0m\u001b[0mkwargs\u001b[0m\u001b[0;34m)\u001b[0m\u001b[0;34m\u001b[0m\u001b[0;34m\u001b[0m\u001b[0m\n\u001b[0m\u001b[1;32m     66\u001b[0m         \u001b[0;32mexcept\u001b[0m \u001b[0mException\u001b[0m \u001b[0;32mas\u001b[0m \u001b[0me\u001b[0m\u001b[0;34m:\u001b[0m\u001b[0;34m\u001b[0m\u001b[0;34m\u001b[0m\u001b[0m\n\u001b[1;32m     67\u001b[0m             \u001b[0mfiltered_tb\u001b[0m \u001b[0;34m=\u001b[0m \u001b[0m_process_traceback_frames\u001b[0m\u001b[0;34m(\u001b[0m\u001b[0me\u001b[0m\u001b[0;34m.\u001b[0m\u001b[0m__traceback__\u001b[0m\u001b[0;34m)\u001b[0m\u001b[0;34m\u001b[0m\u001b[0;34m\u001b[0m\u001b[0m\n",
            "\u001b[0;32m/usr/local/lib/python3.10/dist-packages/keras/src/engine/training.py\u001b[0m in \u001b[0;36mfit\u001b[0;34m(self, x, y, batch_size, epochs, verbose, callbacks, validation_split, validation_data, shuffle, class_weight, sample_weight, initial_epoch, steps_per_epoch, validation_steps, validation_batch_size, validation_freq, max_queue_size, workers, use_multiprocessing)\u001b[0m\n\u001b[1;32m   1805\u001b[0m                         ):\n\u001b[1;32m   1806\u001b[0m                             \u001b[0mcallbacks\u001b[0m\u001b[0;34m.\u001b[0m\u001b[0mon_train_batch_begin\u001b[0m\u001b[0;34m(\u001b[0m\u001b[0mstep\u001b[0m\u001b[0;34m)\u001b[0m\u001b[0;34m\u001b[0m\u001b[0;34m\u001b[0m\u001b[0m\n\u001b[0;32m-> 1807\u001b[0;31m                             \u001b[0mtmp_logs\u001b[0m \u001b[0;34m=\u001b[0m \u001b[0mself\u001b[0m\u001b[0;34m.\u001b[0m\u001b[0mtrain_function\u001b[0m\u001b[0;34m(\u001b[0m\u001b[0miterator\u001b[0m\u001b[0;34m)\u001b[0m\u001b[0;34m\u001b[0m\u001b[0;34m\u001b[0m\u001b[0m\n\u001b[0m\u001b[1;32m   1808\u001b[0m                             \u001b[0;32mif\u001b[0m \u001b[0mdata_handler\u001b[0m\u001b[0;34m.\u001b[0m\u001b[0mshould_sync\u001b[0m\u001b[0;34m:\u001b[0m\u001b[0;34m\u001b[0m\u001b[0;34m\u001b[0m\u001b[0m\n\u001b[1;32m   1809\u001b[0m                                 \u001b[0mcontext\u001b[0m\u001b[0;34m.\u001b[0m\u001b[0masync_wait\u001b[0m\u001b[0;34m(\u001b[0m\u001b[0;34m)\u001b[0m\u001b[0;34m\u001b[0m\u001b[0;34m\u001b[0m\u001b[0m\n",
            "\u001b[0;32m/usr/local/lib/python3.10/dist-packages/tensorflow/python/util/traceback_utils.py\u001b[0m in \u001b[0;36merror_handler\u001b[0;34m(*args, **kwargs)\u001b[0m\n\u001b[1;32m    148\u001b[0m     \u001b[0mfiltered_tb\u001b[0m \u001b[0;34m=\u001b[0m \u001b[0;32mNone\u001b[0m\u001b[0;34m\u001b[0m\u001b[0;34m\u001b[0m\u001b[0m\n\u001b[1;32m    149\u001b[0m     \u001b[0;32mtry\u001b[0m\u001b[0;34m:\u001b[0m\u001b[0;34m\u001b[0m\u001b[0;34m\u001b[0m\u001b[0m\n\u001b[0;32m--> 150\u001b[0;31m       \u001b[0;32mreturn\u001b[0m \u001b[0mfn\u001b[0m\u001b[0;34m(\u001b[0m\u001b[0;34m*\u001b[0m\u001b[0margs\u001b[0m\u001b[0;34m,\u001b[0m \u001b[0;34m**\u001b[0m\u001b[0mkwargs\u001b[0m\u001b[0;34m)\u001b[0m\u001b[0;34m\u001b[0m\u001b[0;34m\u001b[0m\u001b[0m\n\u001b[0m\u001b[1;32m    151\u001b[0m     \u001b[0;32mexcept\u001b[0m \u001b[0mException\u001b[0m \u001b[0;32mas\u001b[0m \u001b[0me\u001b[0m\u001b[0;34m:\u001b[0m\u001b[0;34m\u001b[0m\u001b[0;34m\u001b[0m\u001b[0m\n\u001b[1;32m    152\u001b[0m       \u001b[0mfiltered_tb\u001b[0m \u001b[0;34m=\u001b[0m \u001b[0m_process_traceback_frames\u001b[0m\u001b[0;34m(\u001b[0m\u001b[0me\u001b[0m\u001b[0;34m.\u001b[0m\u001b[0m__traceback__\u001b[0m\u001b[0;34m)\u001b[0m\u001b[0;34m\u001b[0m\u001b[0;34m\u001b[0m\u001b[0m\n",
            "\u001b[0;32m/usr/local/lib/python3.10/dist-packages/tensorflow/python/eager/polymorphic_function/polymorphic_function.py\u001b[0m in \u001b[0;36m__call__\u001b[0;34m(self, *args, **kwds)\u001b[0m\n\u001b[1;32m    830\u001b[0m \u001b[0;34m\u001b[0m\u001b[0m\n\u001b[1;32m    831\u001b[0m       \u001b[0;32mwith\u001b[0m \u001b[0mOptionalXlaContext\u001b[0m\u001b[0;34m(\u001b[0m\u001b[0mself\u001b[0m\u001b[0;34m.\u001b[0m\u001b[0m_jit_compile\u001b[0m\u001b[0;34m)\u001b[0m\u001b[0;34m:\u001b[0m\u001b[0;34m\u001b[0m\u001b[0;34m\u001b[0m\u001b[0m\n\u001b[0;32m--> 832\u001b[0;31m         \u001b[0mresult\u001b[0m \u001b[0;34m=\u001b[0m \u001b[0mself\u001b[0m\u001b[0;34m.\u001b[0m\u001b[0m_call\u001b[0m\u001b[0;34m(\u001b[0m\u001b[0;34m*\u001b[0m\u001b[0margs\u001b[0m\u001b[0;34m,\u001b[0m \u001b[0;34m**\u001b[0m\u001b[0mkwds\u001b[0m\u001b[0;34m)\u001b[0m\u001b[0;34m\u001b[0m\u001b[0;34m\u001b[0m\u001b[0m\n\u001b[0m\u001b[1;32m    833\u001b[0m \u001b[0;34m\u001b[0m\u001b[0m\n\u001b[1;32m    834\u001b[0m       \u001b[0mnew_tracing_count\u001b[0m \u001b[0;34m=\u001b[0m \u001b[0mself\u001b[0m\u001b[0;34m.\u001b[0m\u001b[0mexperimental_get_tracing_count\u001b[0m\u001b[0;34m(\u001b[0m\u001b[0;34m)\u001b[0m\u001b[0;34m\u001b[0m\u001b[0;34m\u001b[0m\u001b[0m\n",
            "\u001b[0;32m/usr/local/lib/python3.10/dist-packages/tensorflow/python/eager/polymorphic_function/polymorphic_function.py\u001b[0m in \u001b[0;36m_call\u001b[0;34m(self, *args, **kwds)\u001b[0m\n\u001b[1;32m    866\u001b[0m       \u001b[0;31m# In this case we have created variables on the first call, so we run the\u001b[0m\u001b[0;34m\u001b[0m\u001b[0;34m\u001b[0m\u001b[0m\n\u001b[1;32m    867\u001b[0m       \u001b[0;31m# defunned version which is guaranteed to never create variables.\u001b[0m\u001b[0;34m\u001b[0m\u001b[0;34m\u001b[0m\u001b[0m\n\u001b[0;32m--> 868\u001b[0;31m       return tracing_compilation.call_function(\n\u001b[0m\u001b[1;32m    869\u001b[0m           \u001b[0margs\u001b[0m\u001b[0;34m,\u001b[0m \u001b[0mkwds\u001b[0m\u001b[0;34m,\u001b[0m \u001b[0mself\u001b[0m\u001b[0;34m.\u001b[0m\u001b[0m_no_variable_creation_config\u001b[0m\u001b[0;34m\u001b[0m\u001b[0;34m\u001b[0m\u001b[0m\n\u001b[1;32m    870\u001b[0m       )\n",
            "\u001b[0;32m/usr/local/lib/python3.10/dist-packages/tensorflow/python/eager/polymorphic_function/tracing_compilation.py\u001b[0m in \u001b[0;36mcall_function\u001b[0;34m(args, kwargs, tracing_options)\u001b[0m\n\u001b[1;32m    137\u001b[0m   \u001b[0mbound_args\u001b[0m \u001b[0;34m=\u001b[0m \u001b[0mfunction\u001b[0m\u001b[0;34m.\u001b[0m\u001b[0mfunction_type\u001b[0m\u001b[0;34m.\u001b[0m\u001b[0mbind\u001b[0m\u001b[0;34m(\u001b[0m\u001b[0;34m*\u001b[0m\u001b[0margs\u001b[0m\u001b[0;34m,\u001b[0m \u001b[0;34m**\u001b[0m\u001b[0mkwargs\u001b[0m\u001b[0;34m)\u001b[0m\u001b[0;34m\u001b[0m\u001b[0;34m\u001b[0m\u001b[0m\n\u001b[1;32m    138\u001b[0m   \u001b[0mflat_inputs\u001b[0m \u001b[0;34m=\u001b[0m \u001b[0mfunction\u001b[0m\u001b[0;34m.\u001b[0m\u001b[0mfunction_type\u001b[0m\u001b[0;34m.\u001b[0m\u001b[0munpack_inputs\u001b[0m\u001b[0;34m(\u001b[0m\u001b[0mbound_args\u001b[0m\u001b[0;34m)\u001b[0m\u001b[0;34m\u001b[0m\u001b[0;34m\u001b[0m\u001b[0m\n\u001b[0;32m--> 139\u001b[0;31m   return function._call_flat(  # pylint: disable=protected-access\n\u001b[0m\u001b[1;32m    140\u001b[0m       \u001b[0mflat_inputs\u001b[0m\u001b[0;34m,\u001b[0m \u001b[0mcaptured_inputs\u001b[0m\u001b[0;34m=\u001b[0m\u001b[0mfunction\u001b[0m\u001b[0;34m.\u001b[0m\u001b[0mcaptured_inputs\u001b[0m\u001b[0;34m\u001b[0m\u001b[0;34m\u001b[0m\u001b[0m\n\u001b[1;32m    141\u001b[0m   )\n",
            "\u001b[0;32m/usr/local/lib/python3.10/dist-packages/tensorflow/python/eager/polymorphic_function/concrete_function.py\u001b[0m in \u001b[0;36m_call_flat\u001b[0;34m(self, tensor_inputs, captured_inputs)\u001b[0m\n\u001b[1;32m   1321\u001b[0m         and executing_eagerly):\n\u001b[1;32m   1322\u001b[0m       \u001b[0;31m# No tape is watching; skip to running the function.\u001b[0m\u001b[0;34m\u001b[0m\u001b[0;34m\u001b[0m\u001b[0m\n\u001b[0;32m-> 1323\u001b[0;31m       \u001b[0;32mreturn\u001b[0m \u001b[0mself\u001b[0m\u001b[0;34m.\u001b[0m\u001b[0m_inference_function\u001b[0m\u001b[0;34m.\u001b[0m\u001b[0mcall_preflattened\u001b[0m\u001b[0;34m(\u001b[0m\u001b[0margs\u001b[0m\u001b[0;34m)\u001b[0m\u001b[0;34m\u001b[0m\u001b[0;34m\u001b[0m\u001b[0m\n\u001b[0m\u001b[1;32m   1324\u001b[0m     forward_backward = self._select_forward_and_backward_functions(\n\u001b[1;32m   1325\u001b[0m         \u001b[0margs\u001b[0m\u001b[0;34m,\u001b[0m\u001b[0;34m\u001b[0m\u001b[0;34m\u001b[0m\u001b[0m\n",
            "\u001b[0;32m/usr/local/lib/python3.10/dist-packages/tensorflow/python/eager/polymorphic_function/atomic_function.py\u001b[0m in \u001b[0;36mcall_preflattened\u001b[0;34m(self, args)\u001b[0m\n\u001b[1;32m    214\u001b[0m   \u001b[0;32mdef\u001b[0m \u001b[0mcall_preflattened\u001b[0m\u001b[0;34m(\u001b[0m\u001b[0mself\u001b[0m\u001b[0;34m,\u001b[0m \u001b[0margs\u001b[0m\u001b[0;34m:\u001b[0m \u001b[0mSequence\u001b[0m\u001b[0;34m[\u001b[0m\u001b[0mcore\u001b[0m\u001b[0;34m.\u001b[0m\u001b[0mTensor\u001b[0m\u001b[0;34m]\u001b[0m\u001b[0;34m)\u001b[0m \u001b[0;34m->\u001b[0m \u001b[0mAny\u001b[0m\u001b[0;34m:\u001b[0m\u001b[0;34m\u001b[0m\u001b[0;34m\u001b[0m\u001b[0m\n\u001b[1;32m    215\u001b[0m     \u001b[0;34m\"\"\"Calls with flattened tensor inputs and returns the structured output.\"\"\"\u001b[0m\u001b[0;34m\u001b[0m\u001b[0;34m\u001b[0m\u001b[0m\n\u001b[0;32m--> 216\u001b[0;31m     \u001b[0mflat_outputs\u001b[0m \u001b[0;34m=\u001b[0m \u001b[0mself\u001b[0m\u001b[0;34m.\u001b[0m\u001b[0mcall_flat\u001b[0m\u001b[0;34m(\u001b[0m\u001b[0;34m*\u001b[0m\u001b[0margs\u001b[0m\u001b[0;34m)\u001b[0m\u001b[0;34m\u001b[0m\u001b[0;34m\u001b[0m\u001b[0m\n\u001b[0m\u001b[1;32m    217\u001b[0m     \u001b[0;32mreturn\u001b[0m \u001b[0mself\u001b[0m\u001b[0;34m.\u001b[0m\u001b[0mfunction_type\u001b[0m\u001b[0;34m.\u001b[0m\u001b[0mpack_output\u001b[0m\u001b[0;34m(\u001b[0m\u001b[0mflat_outputs\u001b[0m\u001b[0;34m)\u001b[0m\u001b[0;34m\u001b[0m\u001b[0;34m\u001b[0m\u001b[0m\n\u001b[1;32m    218\u001b[0m \u001b[0;34m\u001b[0m\u001b[0m\n",
            "\u001b[0;32m/usr/local/lib/python3.10/dist-packages/tensorflow/python/eager/polymorphic_function/atomic_function.py\u001b[0m in \u001b[0;36mcall_flat\u001b[0;34m(self, *args)\u001b[0m\n\u001b[1;32m    249\u001b[0m         \u001b[0;32mwith\u001b[0m \u001b[0mrecord\u001b[0m\u001b[0;34m.\u001b[0m\u001b[0mstop_recording\u001b[0m\u001b[0;34m(\u001b[0m\u001b[0;34m)\u001b[0m\u001b[0;34m:\u001b[0m\u001b[0;34m\u001b[0m\u001b[0;34m\u001b[0m\u001b[0m\n\u001b[1;32m    250\u001b[0m           \u001b[0;32mif\u001b[0m \u001b[0mself\u001b[0m\u001b[0;34m.\u001b[0m\u001b[0m_bound_context\u001b[0m\u001b[0;34m.\u001b[0m\u001b[0mexecuting_eagerly\u001b[0m\u001b[0;34m(\u001b[0m\u001b[0;34m)\u001b[0m\u001b[0;34m:\u001b[0m\u001b[0;34m\u001b[0m\u001b[0;34m\u001b[0m\u001b[0m\n\u001b[0;32m--> 251\u001b[0;31m             outputs = self._bound_context.call_function(\n\u001b[0m\u001b[1;32m    252\u001b[0m                 \u001b[0mself\u001b[0m\u001b[0;34m.\u001b[0m\u001b[0mname\u001b[0m\u001b[0;34m,\u001b[0m\u001b[0;34m\u001b[0m\u001b[0;34m\u001b[0m\u001b[0m\n\u001b[1;32m    253\u001b[0m                 \u001b[0mlist\u001b[0m\u001b[0;34m(\u001b[0m\u001b[0margs\u001b[0m\u001b[0;34m)\u001b[0m\u001b[0;34m,\u001b[0m\u001b[0;34m\u001b[0m\u001b[0;34m\u001b[0m\u001b[0m\n",
            "\u001b[0;32m/usr/local/lib/python3.10/dist-packages/tensorflow/python/eager/context.py\u001b[0m in \u001b[0;36mcall_function\u001b[0;34m(self, name, tensor_inputs, num_outputs)\u001b[0m\n\u001b[1;32m   1484\u001b[0m     \u001b[0mcancellation_context\u001b[0m \u001b[0;34m=\u001b[0m \u001b[0mcancellation\u001b[0m\u001b[0;34m.\u001b[0m\u001b[0mcontext\u001b[0m\u001b[0;34m(\u001b[0m\u001b[0;34m)\u001b[0m\u001b[0;34m\u001b[0m\u001b[0;34m\u001b[0m\u001b[0m\n\u001b[1;32m   1485\u001b[0m     \u001b[0;32mif\u001b[0m \u001b[0mcancellation_context\u001b[0m \u001b[0;32mis\u001b[0m \u001b[0;32mNone\u001b[0m\u001b[0;34m:\u001b[0m\u001b[0;34m\u001b[0m\u001b[0;34m\u001b[0m\u001b[0m\n\u001b[0;32m-> 1486\u001b[0;31m       outputs = execute.execute(\n\u001b[0m\u001b[1;32m   1487\u001b[0m           \u001b[0mname\u001b[0m\u001b[0;34m.\u001b[0m\u001b[0mdecode\u001b[0m\u001b[0;34m(\u001b[0m\u001b[0;34m\"utf-8\"\u001b[0m\u001b[0;34m)\u001b[0m\u001b[0;34m,\u001b[0m\u001b[0;34m\u001b[0m\u001b[0;34m\u001b[0m\u001b[0m\n\u001b[1;32m   1488\u001b[0m           \u001b[0mnum_outputs\u001b[0m\u001b[0;34m=\u001b[0m\u001b[0mnum_outputs\u001b[0m\u001b[0;34m,\u001b[0m\u001b[0;34m\u001b[0m\u001b[0;34m\u001b[0m\u001b[0m\n",
            "\u001b[0;32m/usr/local/lib/python3.10/dist-packages/tensorflow/python/eager/execute.py\u001b[0m in \u001b[0;36mquick_execute\u001b[0;34m(op_name, num_outputs, inputs, attrs, ctx, name)\u001b[0m\n\u001b[1;32m     51\u001b[0m   \u001b[0;32mtry\u001b[0m\u001b[0;34m:\u001b[0m\u001b[0;34m\u001b[0m\u001b[0;34m\u001b[0m\u001b[0m\n\u001b[1;32m     52\u001b[0m     \u001b[0mctx\u001b[0m\u001b[0;34m.\u001b[0m\u001b[0mensure_initialized\u001b[0m\u001b[0;34m(\u001b[0m\u001b[0;34m)\u001b[0m\u001b[0;34m\u001b[0m\u001b[0;34m\u001b[0m\u001b[0m\n\u001b[0;32m---> 53\u001b[0;31m     tensors = pywrap_tfe.TFE_Py_Execute(ctx._handle, device_name, op_name,\n\u001b[0m\u001b[1;32m     54\u001b[0m                                         inputs, attrs, num_outputs)\n\u001b[1;32m     55\u001b[0m   \u001b[0;32mexcept\u001b[0m \u001b[0mcore\u001b[0m\u001b[0;34m.\u001b[0m\u001b[0m_NotOkStatusException\u001b[0m \u001b[0;32mas\u001b[0m \u001b[0me\u001b[0m\u001b[0;34m:\u001b[0m\u001b[0;34m\u001b[0m\u001b[0;34m\u001b[0m\u001b[0m\n",
            "\u001b[0;31mKeyboardInterrupt\u001b[0m: "
          ]
        }
      ]
    },
    {
      "cell_type": "code",
      "source": [],
      "metadata": {
        "id": "m0DDPxccH0dm"
      },
      "execution_count": null,
      "outputs": []
    }
  ]
}