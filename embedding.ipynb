{
 "cells": [
  {
   "cell_type": "code",
   "execution_count": 1,
   "metadata": {},
   "outputs": [],
   "source": [
    "from tensorflow.keras.preprocessing.text import one_hot"
   ]
  },
  {
   "cell_type": "code",
   "execution_count": 2,
   "metadata": {},
   "outputs": [],
   "source": [
    "sent = ['the glass of milk',\n",
    "        'the glass of juice',\n",
    "        'the cup of tea',\n",
    "        'I am a good boy',\n",
    "        'understand the meaning of words',\n",
    "        'your videos are good']"
   ]
  },
  {
   "cell_type": "code",
   "execution_count": 3,
   "metadata": {},
   "outputs": [
    {
     "data": {
      "text/plain": [
       "['the glass of milk',\n",
       " 'the glass of juice',\n",
       " 'the cup of tea',\n",
       " 'I am a good boy',\n",
       " 'understand the meaning of words',\n",
       " 'your videos are good']"
      ]
     },
     "execution_count": 3,
     "metadata": {},
     "output_type": "execute_result"
    }
   ],
   "source": [
    "sent"
   ]
  },
  {
   "cell_type": "code",
   "execution_count": 4,
   "metadata": {},
   "outputs": [],
   "source": [
    "## Define Vocabulary size\n",
    "voc_size = 10000\n"
   ]
  },
  {
   "cell_type": "code",
   "execution_count": 5,
   "metadata": {},
   "outputs": [
    {
     "data": {
      "text/plain": [
       "[[7451, 3192, 6643, 8751],\n",
       " [7451, 3192, 6643, 4968],\n",
       " [7451, 4210, 6643, 5914],\n",
       " [6355, 6107, 1678, 8495, 9991],\n",
       " [2905, 7451, 9845, 6643, 6412],\n",
       " [2086, 1261, 708, 8495]]"
      ]
     },
     "execution_count": 5,
     "metadata": {},
     "output_type": "execute_result"
    }
   ],
   "source": [
    "## One hot Representation \n",
    "one_hot_represent = [one_hot(words, voc_size) for words in sent]\n",
    "one_hot_represent #shows only indexes of the words"
   ]
  },
  {
   "cell_type": "code",
   "execution_count": 6,
   "metadata": {},
   "outputs": [],
   "source": [
    "## Word embeddeing reprentation\n",
    "\n",
    "from tensorflow.keras.layers import Embedding\n",
    "from tensorflow.keras.preprocessing.sequence import pad_sequences ## Adds zeros to adjust sentence length\n",
    "from tensorflow.keras.models import Sequential"
   ]
  },
  {
   "cell_type": "code",
   "execution_count": 7,
   "metadata": {},
   "outputs": [
    {
     "data": {
      "text/plain": [
       "array([[   0,    0,    0,    0, 7451, 3192, 6643, 8751],\n",
       "       [   0,    0,    0,    0, 7451, 3192, 6643, 4968],\n",
       "       [   0,    0,    0,    0, 7451, 4210, 6643, 5914],\n",
       "       [   0,    0,    0, 6355, 6107, 1678, 8495, 9991],\n",
       "       [   0,    0,    0, 2905, 7451, 9845, 6643, 6412],\n",
       "       [   0,    0,    0,    0, 2086, 1261,  708, 8495]], dtype=int32)"
      ]
     },
     "execution_count": 7,
     "metadata": {},
     "output_type": "execute_result"
    }
   ],
   "source": [
    "import numpy as np\n",
    "sent_length = 8 #To make all sentences same length as NN needs all input should be of same length\n",
    "embedded_doc = pad_sequences(one_hot_represent, padding='pre',maxlen=sent_length)\n",
    "embedded_doc"
   ]
  },
  {
   "cell_type": "code",
   "execution_count": 8,
   "metadata": {},
   "outputs": [],
   "source": [
    "## Feature representation\n",
    "dim = 10"
   ]
  },
  {
   "cell_type": "code",
   "execution_count": 9,
   "metadata": {},
   "outputs": [
    {
     "name": "stderr",
     "output_type": "stream",
     "text": [
      "m:\\Learning_Workspace\\AI\\NLP-Concepts\\nlp\\Lib\\site-packages\\keras\\src\\layers\\core\\embedding.py:90: UserWarning: Argument `input_length` is deprecated. Just remove it.\n",
      "  warnings.warn(\n"
     ]
    }
   ],
   "source": [
    "model=Sequential()\n",
    "model.add(Embedding(voc_size,dim,input_length=sent_length))\n",
    "model.compile('adam', 'mse')"
   ]
  },
  {
   "cell_type": "code",
   "execution_count": 10,
   "metadata": {},
   "outputs": [
    {
     "data": {
      "text/html": [
       "<pre style=\"white-space:pre;overflow-x:auto;line-height:normal;font-family:Menlo,'DejaVu Sans Mono',consolas,'Courier New',monospace\"><span style=\"font-weight: bold\">Model: \"sequential\"</span>\n",
       "</pre>\n"
      ],
      "text/plain": [
       "\u001b[1mModel: \"sequential\"\u001b[0m\n"
      ]
     },
     "metadata": {},
     "output_type": "display_data"
    },
    {
     "data": {
      "text/html": [
       "<pre style=\"white-space:pre;overflow-x:auto;line-height:normal;font-family:Menlo,'DejaVu Sans Mono',consolas,'Courier New',monospace\">┏━━━━━━━━━━━━━━━━━━━━━━━━━━━━━━━━━┳━━━━━━━━━━━━━━━━━━━━━━━━┳━━━━━━━━━━━━━━━┓\n",
       "┃<span style=\"font-weight: bold\"> Layer (type)                    </span>┃<span style=\"font-weight: bold\"> Output Shape           </span>┃<span style=\"font-weight: bold\">       Param # </span>┃\n",
       "┡━━━━━━━━━━━━━━━━━━━━━━━━━━━━━━━━━╇━━━━━━━━━━━━━━━━━━━━━━━━╇━━━━━━━━━━━━━━━┩\n",
       "│ embedding (<span style=\"color: #0087ff; text-decoration-color: #0087ff\">Embedding</span>)           │ ?                      │   <span style=\"color: #00af00; text-decoration-color: #00af00\">0</span> (unbuilt) │\n",
       "└─────────────────────────────────┴────────────────────────┴───────────────┘\n",
       "</pre>\n"
      ],
      "text/plain": [
       "┏━━━━━━━━━━━━━━━━━━━━━━━━━━━━━━━━━┳━━━━━━━━━━━━━━━━━━━━━━━━┳━━━━━━━━━━━━━━━┓\n",
       "┃\u001b[1m \u001b[0m\u001b[1mLayer (type)                   \u001b[0m\u001b[1m \u001b[0m┃\u001b[1m \u001b[0m\u001b[1mOutput Shape          \u001b[0m\u001b[1m \u001b[0m┃\u001b[1m \u001b[0m\u001b[1m      Param #\u001b[0m\u001b[1m \u001b[0m┃\n",
       "┡━━━━━━━━━━━━━━━━━━━━━━━━━━━━━━━━━╇━━━━━━━━━━━━━━━━━━━━━━━━╇━━━━━━━━━━━━━━━┩\n",
       "│ embedding (\u001b[38;5;33mEmbedding\u001b[0m)           │ ?                      │   \u001b[38;5;34m0\u001b[0m (unbuilt) │\n",
       "└─────────────────────────────────┴────────────────────────┴───────────────┘\n"
      ]
     },
     "metadata": {},
     "output_type": "display_data"
    },
    {
     "data": {
      "text/html": [
       "<pre style=\"white-space:pre;overflow-x:auto;line-height:normal;font-family:Menlo,'DejaVu Sans Mono',consolas,'Courier New',monospace\"><span style=\"font-weight: bold\"> Total params: </span><span style=\"color: #00af00; text-decoration-color: #00af00\">0</span> (0.00 B)\n",
       "</pre>\n"
      ],
      "text/plain": [
       "\u001b[1m Total params: \u001b[0m\u001b[38;5;34m0\u001b[0m (0.00 B)\n"
      ]
     },
     "metadata": {},
     "output_type": "display_data"
    },
    {
     "data": {
      "text/html": [
       "<pre style=\"white-space:pre;overflow-x:auto;line-height:normal;font-family:Menlo,'DejaVu Sans Mono',consolas,'Courier New',monospace\"><span style=\"font-weight: bold\"> Trainable params: </span><span style=\"color: #00af00; text-decoration-color: #00af00\">0</span> (0.00 B)\n",
       "</pre>\n"
      ],
      "text/plain": [
       "\u001b[1m Trainable params: \u001b[0m\u001b[38;5;34m0\u001b[0m (0.00 B)\n"
      ]
     },
     "metadata": {},
     "output_type": "display_data"
    },
    {
     "data": {
      "text/html": [
       "<pre style=\"white-space:pre;overflow-x:auto;line-height:normal;font-family:Menlo,'DejaVu Sans Mono',consolas,'Courier New',monospace\"><span style=\"font-weight: bold\"> Non-trainable params: </span><span style=\"color: #00af00; text-decoration-color: #00af00\">0</span> (0.00 B)\n",
       "</pre>\n"
      ],
      "text/plain": [
       "\u001b[1m Non-trainable params: \u001b[0m\u001b[38;5;34m0\u001b[0m (0.00 B)\n"
      ]
     },
     "metadata": {},
     "output_type": "display_data"
    }
   ],
   "source": [
    "model.summary()"
   ]
  },
  {
   "cell_type": "code",
   "execution_count": 11,
   "metadata": {},
   "outputs": [
    {
     "name": "stdout",
     "output_type": "stream",
     "text": [
      "\u001b[1m1/1\u001b[0m \u001b[32m━━━━━━━━━━━━━━━━━━━━\u001b[0m\u001b[37m\u001b[0m \u001b[1m0s\u001b[0m 196ms/step\n"
     ]
    },
    {
     "data": {
      "text/plain": [
       "array([[[-0.01129348, -0.03975831, -0.02602074,  0.00657086,\n",
       "          0.00799757,  0.03782514, -0.00694393, -0.00708745,\n",
       "         -0.04075326,  0.02015258],\n",
       "        [-0.01129348, -0.03975831, -0.02602074,  0.00657086,\n",
       "          0.00799757,  0.03782514, -0.00694393, -0.00708745,\n",
       "         -0.04075326,  0.02015258],\n",
       "        [-0.01129348, -0.03975831, -0.02602074,  0.00657086,\n",
       "          0.00799757,  0.03782514, -0.00694393, -0.00708745,\n",
       "         -0.04075326,  0.02015258],\n",
       "        [-0.01129348, -0.03975831, -0.02602074,  0.00657086,\n",
       "          0.00799757,  0.03782514, -0.00694393, -0.00708745,\n",
       "         -0.04075326,  0.02015258],\n",
       "        [ 0.04775156, -0.03434551, -0.00749683,  0.04683824,\n",
       "          0.04588855, -0.00390245,  0.01429996,  0.01905813,\n",
       "         -0.04142509, -0.01652865],\n",
       "        [ 0.0134439 , -0.03218918, -0.01786115, -0.02173207,\n",
       "          0.04494273, -0.00992508, -0.01575855,  0.03890857,\n",
       "          0.04008087,  0.04398746],\n",
       "        [ 0.02310357,  0.02118397,  0.01782031, -0.02309797,\n",
       "         -0.04080363,  0.02880606,  0.03657982, -0.04756699,\n",
       "         -0.00699421, -0.04992331],\n",
       "        [ 0.01127518, -0.00584767,  0.03706243, -0.01813855,\n",
       "         -0.02878979,  0.02464087,  0.03431303, -0.0274345 ,\n",
       "         -0.0477832 , -0.01138689]],\n",
       "\n",
       "       [[-0.01129348, -0.03975831, -0.02602074,  0.00657086,\n",
       "          0.00799757,  0.03782514, -0.00694393, -0.00708745,\n",
       "         -0.04075326,  0.02015258],\n",
       "        [-0.01129348, -0.03975831, -0.02602074,  0.00657086,\n",
       "          0.00799757,  0.03782514, -0.00694393, -0.00708745,\n",
       "         -0.04075326,  0.02015258],\n",
       "        [-0.01129348, -0.03975831, -0.02602074,  0.00657086,\n",
       "          0.00799757,  0.03782514, -0.00694393, -0.00708745,\n",
       "         -0.04075326,  0.02015258],\n",
       "        [-0.01129348, -0.03975831, -0.02602074,  0.00657086,\n",
       "          0.00799757,  0.03782514, -0.00694393, -0.00708745,\n",
       "         -0.04075326,  0.02015258],\n",
       "        [ 0.04775156, -0.03434551, -0.00749683,  0.04683824,\n",
       "          0.04588855, -0.00390245,  0.01429996,  0.01905813,\n",
       "         -0.04142509, -0.01652865],\n",
       "        [ 0.0134439 , -0.03218918, -0.01786115, -0.02173207,\n",
       "          0.04494273, -0.00992508, -0.01575855,  0.03890857,\n",
       "          0.04008087,  0.04398746],\n",
       "        [ 0.02310357,  0.02118397,  0.01782031, -0.02309797,\n",
       "         -0.04080363,  0.02880606,  0.03657982, -0.04756699,\n",
       "         -0.00699421, -0.04992331],\n",
       "        [ 0.02729733, -0.01292348,  0.01480221, -0.0099633 ,\n",
       "          0.03749717,  0.00958412,  0.03878603,  0.01515088,\n",
       "          0.04811741, -0.04419304]],\n",
       "\n",
       "       [[-0.01129348, -0.03975831, -0.02602074,  0.00657086,\n",
       "          0.00799757,  0.03782514, -0.00694393, -0.00708745,\n",
       "         -0.04075326,  0.02015258],\n",
       "        [-0.01129348, -0.03975831, -0.02602074,  0.00657086,\n",
       "          0.00799757,  0.03782514, -0.00694393, -0.00708745,\n",
       "         -0.04075326,  0.02015258],\n",
       "        [-0.01129348, -0.03975831, -0.02602074,  0.00657086,\n",
       "          0.00799757,  0.03782514, -0.00694393, -0.00708745,\n",
       "         -0.04075326,  0.02015258],\n",
       "        [-0.01129348, -0.03975831, -0.02602074,  0.00657086,\n",
       "          0.00799757,  0.03782514, -0.00694393, -0.00708745,\n",
       "         -0.04075326,  0.02015258],\n",
       "        [ 0.04775156, -0.03434551, -0.00749683,  0.04683824,\n",
       "          0.04588855, -0.00390245,  0.01429996,  0.01905813,\n",
       "         -0.04142509, -0.01652865],\n",
       "        [ 0.04353   , -0.03209834,  0.03800852,  0.00691973,\n",
       "          0.0063364 ,  0.00212873,  0.02479896, -0.02583206,\n",
       "         -0.02311013, -0.04298295],\n",
       "        [ 0.02310357,  0.02118397,  0.01782031, -0.02309797,\n",
       "         -0.04080363,  0.02880606,  0.03657982, -0.04756699,\n",
       "         -0.00699421, -0.04992331],\n",
       "        [-0.00087281, -0.01780708, -0.03525208,  0.00528241,\n",
       "         -0.004504  , -0.02678106, -0.02433658,  0.03905728,\n",
       "         -0.02833439,  0.04840258]],\n",
       "\n",
       "       [[-0.01129348, -0.03975831, -0.02602074,  0.00657086,\n",
       "          0.00799757,  0.03782514, -0.00694393, -0.00708745,\n",
       "         -0.04075326,  0.02015258],\n",
       "        [-0.01129348, -0.03975831, -0.02602074,  0.00657086,\n",
       "          0.00799757,  0.03782514, -0.00694393, -0.00708745,\n",
       "         -0.04075326,  0.02015258],\n",
       "        [-0.01129348, -0.03975831, -0.02602074,  0.00657086,\n",
       "          0.00799757,  0.03782514, -0.00694393, -0.00708745,\n",
       "         -0.04075326,  0.02015258],\n",
       "        [ 0.0216236 ,  0.04130267, -0.00374322,  0.02495167,\n",
       "         -0.04482822,  0.03747031,  0.03383306,  0.02519825,\n",
       "          0.02455575, -0.00948471],\n",
       "        [-0.02951737, -0.03474101,  0.02947745, -0.02862289,\n",
       "         -0.01003136, -0.04504765,  0.027351  ,  0.03186946,\n",
       "          0.04031939, -0.04618278],\n",
       "        [-0.01479205, -0.01164325, -0.01537199, -0.03583574,\n",
       "          0.02704045, -0.02388891, -0.03759444,  0.0434473 ,\n",
       "          0.02157099,  0.0432971 ],\n",
       "        [-0.02313633,  0.02045255, -0.04189922, -0.02504477,\n",
       "          0.02626562, -0.03166343,  0.0393855 , -0.03466994,\n",
       "         -0.00526931,  0.03154102],\n",
       "        [-0.04627686, -0.00350767,  0.03746564, -0.01602694,\n",
       "          0.02556083, -0.01016377,  0.04519984,  0.00371861,\n",
       "         -0.03614936, -0.01210435]],\n",
       "\n",
       "       [[-0.01129348, -0.03975831, -0.02602074,  0.00657086,\n",
       "          0.00799757,  0.03782514, -0.00694393, -0.00708745,\n",
       "         -0.04075326,  0.02015258],\n",
       "        [-0.01129348, -0.03975831, -0.02602074,  0.00657086,\n",
       "          0.00799757,  0.03782514, -0.00694393, -0.00708745,\n",
       "         -0.04075326,  0.02015258],\n",
       "        [-0.01129348, -0.03975831, -0.02602074,  0.00657086,\n",
       "          0.00799757,  0.03782514, -0.00694393, -0.00708745,\n",
       "         -0.04075326,  0.02015258],\n",
       "        [-0.04443412,  0.04345464,  0.02583212,  0.01884054,\n",
       "         -0.01997093, -0.04081119,  0.01279971,  0.03468208,\n",
       "          0.04923724,  0.02578664],\n",
       "        [ 0.04775156, -0.03434551, -0.00749683,  0.04683824,\n",
       "          0.04588855, -0.00390245,  0.01429996,  0.01905813,\n",
       "         -0.04142509, -0.01652865],\n",
       "        [-0.04554038, -0.01141746,  0.03574583, -0.0163228 ,\n",
       "          0.01050923, -0.02547966, -0.03739501,  0.02046608,\n",
       "          0.00303848, -0.0264487 ],\n",
       "        [ 0.02310357,  0.02118397,  0.01782031, -0.02309797,\n",
       "         -0.04080363,  0.02880606,  0.03657982, -0.04756699,\n",
       "         -0.00699421, -0.04992331],\n",
       "        [-0.04617716,  0.00964234,  0.0184784 ,  0.03181828,\n",
       "         -0.01562212,  0.04311246,  0.0358911 , -0.03178129,\n",
       "          0.02872778,  0.04124904]],\n",
       "\n",
       "       [[-0.01129348, -0.03975831, -0.02602074,  0.00657086,\n",
       "          0.00799757,  0.03782514, -0.00694393, -0.00708745,\n",
       "         -0.04075326,  0.02015258],\n",
       "        [-0.01129348, -0.03975831, -0.02602074,  0.00657086,\n",
       "          0.00799757,  0.03782514, -0.00694393, -0.00708745,\n",
       "         -0.04075326,  0.02015258],\n",
       "        [-0.01129348, -0.03975831, -0.02602074,  0.00657086,\n",
       "          0.00799757,  0.03782514, -0.00694393, -0.00708745,\n",
       "         -0.04075326,  0.02015258],\n",
       "        [-0.01129348, -0.03975831, -0.02602074,  0.00657086,\n",
       "          0.00799757,  0.03782514, -0.00694393, -0.00708745,\n",
       "         -0.04075326,  0.02015258],\n",
       "        [-0.03798286, -0.0014241 ,  0.0115841 ,  0.02907241,\n",
       "         -0.03905015, -0.04430031, -0.03683852,  0.01697211,\n",
       "          0.01637051,  0.0266966 ],\n",
       "        [-0.04481628, -0.03960301, -0.02919412, -0.02830755,\n",
       "         -0.02251467,  0.01632631,  0.00413456, -0.03187191,\n",
       "          0.00207807, -0.01979262],\n",
       "        [ 0.02084455,  0.04732459,  0.04765079, -0.01272219,\n",
       "          0.00865786, -0.03376495,  0.03975241,  0.04422912,\n",
       "          0.02736825,  0.0096194 ],\n",
       "        [-0.02313633,  0.02045255, -0.04189922, -0.02504477,\n",
       "          0.02626562, -0.03166343,  0.0393855 , -0.03466994,\n",
       "         -0.00526931,  0.03154102]]], dtype=float32)"
      ]
     },
     "execution_count": 11,
     "metadata": {},
     "output_type": "execute_result"
    }
   ],
   "source": [
    "model.predict(embedded_doc)"
   ]
  },
  {
   "cell_type": "code",
   "execution_count": 12,
   "metadata": {},
   "outputs": [
    {
     "data": {
      "text/plain": [
       "array([   0,    0,    0,    0, 7451, 3192, 6643, 8751], dtype=int32)"
      ]
     },
     "execution_count": 12,
     "metadata": {},
     "output_type": "execute_result"
    }
   ],
   "source": [
    "embedded_doc[0]"
   ]
  },
  {
   "cell_type": "code",
   "execution_count": null,
   "metadata": {},
   "outputs": [],
   "source": [
    "'''word embedding for first sentence are[ 0.03219375,  0.00858467,  0.03947996, -0.03490381,\n",
    "         -0.01985881,  0.01445988,  0.00234581,  0.01317957,\n",
    "         -0.02436519, -0.03215386]'''"
   ]
  },
  {
   "cell_type": "code",
   "execution_count": null,
   "metadata": {},
   "outputs": [],
   "source": []
  }
 ],
 "metadata": {
  "kernelspec": {
   "display_name": "Python 3",
   "language": "python",
   "name": "python3"
  },
  "language_info": {
   "codemirror_mode": {
    "name": "ipython",
    "version": 3
   },
   "file_extension": ".py",
   "mimetype": "text/x-python",
   "name": "python",
   "nbconvert_exporter": "python",
   "pygments_lexer": "ipython3",
   "version": "3.12.0"
  }
 },
 "nbformat": 4,
 "nbformat_minor": 2
}
